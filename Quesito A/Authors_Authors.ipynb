{
 "cells": [
  {
   "cell_type": "markdown",
   "id": "322f94f4",
   "metadata": {
    "pycharm": {
     "name": "#%% md\n"
    }
   },
   "source": [
    "####################################### CONTROLLO LIBRERIE ################################################"
   ]
  },
  {
   "cell_type": "code",
   "execution_count": null,
   "id": "621859f5",
   "metadata": {
    "pycharm": {
     "name": "#%%\n"
    }
   },
   "outputs": [],
   "source": [
    "# Per rendere il codice riproducibile\n",
    "import importlib\n",
    "import subprocess"
   ]
  },
  {
   "cell_type": "code",
   "execution_count": null,
   "id": "5510410f",
   "metadata": {
    "pycharm": {
     "name": "#%%\n"
    }
   },
   "outputs": [],
   "source": [
    "librerie_richieste = ['pandas', 'networkx', 'matplotlib', 'warnings',\n",
    "                      'community','operator']"
   ]
  },
  {
   "cell_type": "code",
   "execution_count": null,
   "id": "a7c9881a",
   "metadata": {
    "pycharm": {
     "name": "#%%\n"
    }
   },
   "outputs": [],
   "source": [
    "for lib in librerie_richieste:\n",
    "    try:\n",
    "        importlib.import_module(lib)\n",
    "    except ImportError:\n",
    "        subprocess.check_call(['pip', 'install', lib])"
   ]
  },
  {
   "cell_type": "code",
   "execution_count": null,
   "id": "38a0bf27",
   "metadata": {
    "pycharm": {
     "name": "#%%\n"
    }
   },
   "outputs": [],
   "source": [
    "############################## IMPORTAZIONE LIBRERIE ##############################################\n",
    "import pandas as pd\n",
    "import networkx as nx\n",
    "import matplotlib.pyplot as plt\n",
    "import warnings\n",
    "import community as community_louvain\n",
    "from operator import itemgetter"
   ]
  },
  {
   "cell_type": "code",
   "execution_count": null,
   "id": "afeccd39",
   "metadata": {
    "pycharm": {
     "name": "#%%\n"
    }
   },
   "outputs": [],
   "source": [
    "warnings.filterwarnings(\"ignore\")"
   ]
  },
  {
   "cell_type": "markdown",
   "id": "6bc95381",
   "metadata": {
    "pycharm": {
     "name": "#%% md\n"
    }
   },
   "source": [
    "######################################## PULIZIA DEL DATASET ################################################\n",
    "############################################## PARTE 1 ######################################################"
   ]
  },
  {
   "cell_type": "code",
   "execution_count": null,
   "id": "312ac70d",
   "metadata": {
    "pycharm": {
     "name": "#%%\n"
    }
   },
   "outputs": [],
   "source": [
    "# Importazione del dataset\n",
    "df_completo = pd.read_excel(\"./Dataset_Corona_1949_2023_FINALE.xlsx\")"
   ]
  },
  {
   "cell_type": "markdown",
   "id": "eb4a8fd6",
   "metadata": {
    "pycharm": {
     "name": "#%% md\n"
    }
   },
   "source": [
    "############################################## PARTE 2 ######################################################"
   ]
  },
  {
   "cell_type": "markdown",
   "id": "c67fabdd",
   "metadata": {
    "pycharm": {
     "name": "#%% md\n"
    }
   },
   "source": [
    "Ai fini esplorativi abbiamo individuato due periodi da comparare, uno pre-pandemico (1949-2018)\n",
    "e uno post-pandemico (2019-2023)"
   ]
  },
  {
   "cell_type": "code",
   "execution_count": null,
   "id": "09b50034",
   "metadata": {
    "pycharm": {
     "name": "#%%\n"
    }
   },
   "outputs": [],
   "source": [
    "# Creiamo il dataframe relativo all'intervallo temporale 1949-2018:\n",
    "publication_year_interval = (1949, 2018)\n",
    "df_49_18 = df_completo[(df_completo[\"Publication Year\"] >= publication_year_interval[0]) & (df_completo[\"Publication Year\"] <= publication_year_interval[1])]\n",
    "print(df_49_18.shape[0])"
   ]
  },
  {
   "cell_type": "markdown",
   "id": "26d33ea9",
   "metadata": {
    "pycharm": {
     "name": "#%% md\n"
    }
   },
   "source": [
    "Il dataframe relativo all'intervallo temporale 1949-2018 consta di 14 414 osservazioni"
   ]
  },
  {
   "cell_type": "code",
   "execution_count": null,
   "id": "2927d8bf",
   "metadata": {
    "pycharm": {
     "name": "#%%\n"
    }
   },
   "outputs": [],
   "source": [
    "# Creiamo il dataframe relativo all'intervallo temporale 2019-2023:\n",
    "publication_year_interval = (2019, 2023)\n",
    "df_19_23 = df_completo[(df_completo[\"Publication Year\"] >= publication_year_interval[0]) & (df_completo[\"Publication Year\"] <= publication_year_interval[1])]\n",
    "print(df_19_23.shape[0])"
   ]
  },
  {
   "cell_type": "markdown",
   "id": "22d0fcf6",
   "metadata": {
    "lines_to_next_cell": 2,
    "pycharm": {
     "name": "#%% md\n"
    }
   },
   "source": [
    "Il dataframe relativo all'intervallo temporale 2019-2023 consta di 209 969 osservazioni"
   ]
  },
  {
   "cell_type": "markdown",
   "id": "8176d5e0",
   "metadata": {
    "pycharm": {
     "name": "#%% md\n"
    }
   },
   "source": [
    "Creiamo due nuovi dataframe contenenti il 10% delle osservazioni per alleggerire il calcolo\n",
    "Qualora si volesse in futuro ripetere l'analisi con computer dotati di una maggiore potenza di calcolo\n",
    "tramite la variabile 'perc' è possibile modificare la percentuale di osservazioni del dataframe completo da\n",
    "destinare al campione"
   ]
  },
  {
   "cell_type": "code",
   "execution_count": null,
   "id": "1285d8db",
   "metadata": {
    "pycharm": {
     "name": "#%%\n"
    }
   },
   "outputs": [],
   "source": [
    "perc = 0.1"
   ]
  },
  {
   "cell_type": "code",
   "execution_count": null,
   "id": "1c8b54cb",
   "metadata": {
    "pycharm": {
     "name": "#%%\n"
    }
   },
   "outputs": [],
   "source": [
    "# Creiamo il campione del dataframe 1949-2018\n",
    "df_part_1 = df_49_18.sample(frac = 1-perc, random_state = 123)\n",
    "df_part_2 = df_49_18.drop(df_part_1.index)\n",
    "df_49_18 = df_part_2"
   ]
  },
  {
   "cell_type": "code",
   "execution_count": null,
   "id": "75256765",
   "metadata": {
    "pycharm": {
     "name": "#%%\n"
    }
   },
   "outputs": [],
   "source": [
    "# Creiamo il campione del dataframe 2019-2023\n",
    "df_part_1 = df_19_23.sample(frac = 1-perc, random_state = 123)\n",
    "df_part_2 = df_19_23.drop(df_part_1.index)\n",
    "df_19_23 = df_part_2"
   ]
  },
  {
   "cell_type": "markdown",
   "id": "6fb7c1f2",
   "metadata": {
    "pycharm": {
     "name": "#%% md\n"
    }
   },
   "source": [
    "############################################## PARTE 3 ######################################################"
   ]
  },
  {
   "cell_type": "code",
   "execution_count": null,
   "id": "a23b8f8d",
   "metadata": {
    "pycharm": {
     "name": "#%%\n"
    }
   },
   "outputs": [],
   "source": [
    "# Creiamo un dizionario \"esploso\" per autore\n",
    "# Sia per il periodo 1949-2018\n",
    "df_authors_49_18 = (\n",
    "    df_49_18.assign(Authors= df_49_18[\"Authors\"].astype(str).str.strip().str.split(\",\"))\n",
    "        .explode(\"Authors\")\n",
    "        .drop_duplicates()\n",
    ")\n",
    "df_authors_49_18[\"Authors\"] = df_authors_49_18[\"Authors\"].str.strip()"
   ]
  },
  {
   "cell_type": "code",
   "execution_count": null,
   "id": "d1497d62",
   "metadata": {
    "pycharm": {
     "name": "#%%\n"
    }
   },
   "outputs": [],
   "source": [
    "# Sia per il periodo 2019-2023\n",
    "df_authors_19_23 = (\n",
    "    df_19_23.assign(Authors= df_19_23[\"Authors\"].astype(str).str.strip().str.split(\",\"))\n",
    "        .explode(\"Authors\")\n",
    "        .drop_duplicates()\n",
    ")\n",
    "df_authors_19_23[\"Authors\"] = df_authors_19_23[\"Authors\"].str.strip()\n",
    "# Le righe di questi dizionari hanno la forma\n",
    "# PMID#1   .... AUTORE#1\n",
    "# PMID#1   .... AUTORE#2\n",
    "# PMID#1   .... AUTORE#3\n",
    "# PMID#2   .... AUTORE#3\n",
    "# PMID#2   .... AUTORE#4\n",
    "# PMID#3   .... AUTORE#5\n",
    "# PMID#3   .... AUTORE#6\n",
    "# PMID#4   .... AUTORE#1\n",
    "# PMID#5   .... AUTORE#7\n",
    "# ......   .... ........"
   ]
  },
  {
   "cell_type": "markdown",
   "id": "bf5d6750",
   "metadata": {
    "pycharm": {
     "name": "#%% md\n"
    }
   },
   "source": [
    "#################################### ANALISI GENERALI ##################################################"
   ]
  },
  {
   "cell_type": "code",
   "execution_count": null,
   "id": "74d7cbd4",
   "metadata": {
    "pycharm": {
     "name": "#%%\n"
    }
   },
   "outputs": [],
   "source": [
    "pd.set_option('display.max_rows', None)  # Visualizza tutte le righe della tabella\n",
    "print(df_completo['Publication Year'].value_counts().sort_index())"
   ]
  },
  {
   "cell_type": "code",
   "execution_count": null,
   "id": "ee4bb92f",
   "metadata": {
    "pycharm": {
     "name": "#%%\n"
    }
   },
   "outputs": [],
   "source": []
  },
  {
   "cell_type": "markdown",
   "id": "1e47c917",
   "metadata": {
    "pycharm": {
     "name": "#%% md\n"
    }
   },
   "source": [
    "########################################### CREAZIONE DEI GRAFI #########################################"
   ]
  },
  {
   "cell_type": "markdown",
   "id": "4f525c0a",
   "metadata": {
    "pycharm": {
     "name": "#%% md\n"
    }
   },
   "source": [
    "Procediamo con la creazione di due grafi per fini analitici, uno relativo a ciascun periodo"
   ]
  },
  {
   "cell_type": "markdown",
   "id": "969fc0c6",
   "metadata": {
    "pycharm": {
     "name": "#%% md\n"
    }
   },
   "source": [
    "1949-2018"
   ]
  },
  {
   "cell_type": "code",
   "execution_count": null,
   "id": "f097a10f",
   "metadata": {
    "pycharm": {
     "name": "#%%\n"
    }
   },
   "outputs": [],
   "source": [
    "G_49_18 = nx.Graph()\n",
    "# Creiamo un insieme di tutti gli autori univoci\n",
    "authors = set(df_authors_49_18[\"Authors\"])\n",
    "# Facciamo in modo che ciascun nodo del grafo coincida con gli autori\n",
    "G_49_18.add_nodes_from(authors)\n",
    "# Creiamo un dizionario che associ a ogni PMID gli autori che hanno lavorato su quell'articolo\n",
    "coauthors = {}\n",
    "for pmid, group in df_authors_49_18.groupby(\"PMID\"):\n",
    "    coauthors[pmid] = list(group[\"Authors\"])\n",
    "# Aggiungiamo gli archi al grafo per coautori che hanno lo stesso PMID:\n",
    "for pmid, authors in coauthors.items():\n",
    "    for i, author1 in enumerate(authors):\n",
    "        for author2 in authors[i+1:]:\n",
    "            G_49_18.add_edge(author1, author2)"
   ]
  },
  {
   "cell_type": "markdown",
   "id": "8560a99c",
   "metadata": {
    "pycharm": {
     "name": "#%% md\n"
    }
   },
   "source": [
    "2019-2023"
   ]
  },
  {
   "cell_type": "code",
   "execution_count": null,
   "id": "5488379c",
   "metadata": {
    "lines_to_next_cell": 2,
    "pycharm": {
     "name": "#%%\n"
    }
   },
   "outputs": [],
   "source": [
    "G_19_23 = nx.Graph()\n",
    "# Creiamo un insieme di tutti gli autori univoci\n",
    "authors = set(df_authors_19_23[\"Authors\"])\n",
    "# Facciamo in modo che ciascun nodo del grafo coincida con gli autori\n",
    "G_19_23.add_nodes_from(authors)\n",
    "# Creiamo un dizionario che associ a ogni PMID gli autori che hanno lavorato su quell'articolo\n",
    "coauthors = {}\n",
    "for pmid, group in df_authors_19_23.groupby(\"PMID\"):\n",
    "    coauthors[pmid] = list(group[\"Authors\"])\n",
    "# Aggiungiamo gli archi al grafo per coautori che hanno lo stesso PMID:\n",
    "for pmid, authors in coauthors.items():\n",
    "    for i, author1 in enumerate(authors):\n",
    "        for author2 in authors[i+1:]:\n",
    "            G_19_23.add_edge(author1, author2)"
   ]
  },
  {
   "cell_type": "markdown",
   "id": "a93f4401",
   "metadata": {
    "pycharm": {
     "name": "#%% md\n"
    }
   },
   "source": [
    "################################# EVENTUALI FILTRI DA APPORRE AL GRAFO #######################################"
   ]
  },
  {
   "cell_type": "markdown",
   "id": "af15155c",
   "metadata": {
    "pycharm": {
     "name": "#%% md\n"
    }
   },
   "source": [
    "# Estraggo un sottografo che abbia solo nodi di almeno un grado pari a k\n",
    "k_degree=10\n",
    "sub_k_degree = grafo.subgraph([node for node, degree in dict(grafo.degree()).items() if degree >= k_degree])\n",
    "# Il codice in questione va modificato tenendo conto del nome dato al grafo"
   ]
  },
  {
   "cell_type": "markdown",
   "id": "3ff5346b",
   "metadata": {
    "pycharm": {
     "name": "#%% md\n"
    }
   },
   "source": [
    "############################################# ANALISI DEI GRAFI ##########################################\n",
    "################################################# MISURE #################################################"
   ]
  },
  {
   "cell_type": "code",
   "execution_count": null,
   "id": "e06fe1b2",
   "metadata": {
    "pycharm": {
     "name": "#%%\n"
    }
   },
   "outputs": [],
   "source": [
    "# pulizia dei grafi\n",
    "G_49_18.remove_node('et al')\n",
    "G_19_23.remove_node('et al')"
   ]
  },
  {
   "cell_type": "code",
   "execution_count": null,
   "id": "02b95120",
   "metadata": {
    "lines_to_next_cell": 1,
    "pycharm": {
     "name": "#%%\n"
    }
   },
   "outputs": [],
   "source": [
    "lista_grafi=[G_49_18,G_19_23]"
   ]
  },
  {
   "cell_type": "code",
   "execution_count": null,
   "id": "2e1f52f1",
   "metadata": {
    "lines_to_next_cell": 1,
    "pycharm": {
     "name": "#%%\n"
    }
   },
   "outputs": [],
   "source": [
    "def confronta_grafi(lista_grafi,k):\n",
    "    # Per ogni grafo nella lista\n",
    "    for i, graph in enumerate(lista_grafi):\n",
    "        if i < len(lista_grafi) - 1:\n",
    "            print(f\"Confronto tra il {i + 1}° e il {i + 2}° grafo\")\n",
    "\n",
    "        # Identifica i primi k nodi con il grado più alto\n",
    "        top_nodes = sorted(nx.degree(graph), key=lambda x: x[1], reverse=True)[:k]\n",
    "\n",
    "        # Se ci sono altri grafi nella lista\n",
    "        if i < len(lista_grafi) - 1:\n",
    "            # Identifica i primi k nodi con il grado più alto dell'altro grafo\n",
    "            other_graph = lista_grafi[i + 1]\n",
    "            other_top_nodes = sorted(nx.degree(other_graph), key=lambda x: x[1], reverse=True)[:k]\n",
    "\n",
    "            # Determina i nodi in comune\n",
    "            common_nodes = set([node[0] for node in top_nodes]).intersection(set([node[0] for node in other_top_nodes]))\n",
    "            num_common_nodes = len(common_nodes)\n",
    "\n",
    "            # Stampa il numero di nodi in comune\n",
    "            if num_common_nodes!=0:\n",
    "                print(f\"Gli autori in comune nelle prime {k} posizioni in termini di grado del nodo tra il {i + 1}° e il {i + 2}° grafo sono: {num_common_nodes}\")\n",
    "            else:\n",
    "                print(f\"Non ci sono autori in comune nelle prime {k} posizioni in termini di grado del nodo\")\n",
    "\n",
    "            # Stampa la posizione dei nodi in comune nell'altro grafo e nel grafo in questione\n",
    "            for node in top_nodes:\n",
    "                if node[0] in common_nodes:\n",
    "                    index_other = [j for j, n in enumerate(other_top_nodes) if n[0] == node[0]][0]\n",
    "                    index_self = [j for j, n in enumerate(top_nodes) if n[0] == node[0]][0]\n",
    "                    print(\n",
    "                        f\"L'autore '{node[0]}' si trovava nella posizione {index_self + 1} nel {i + 1}° grafo, mentre nel {i + 2}° grafo si trova nella posizione {index_other + 1}\")"
   ]
  },
  {
   "cell_type": "code",
   "execution_count": null,
   "id": "2295ded7",
   "metadata": {
    "lines_to_next_cell": 1,
    "pycharm": {
     "name": "#%%\n"
    }
   },
   "outputs": [],
   "source": [
    "def analizza_grafi(lista_grafi):\n",
    "    k=25\n",
    "    for i,G in enumerate(lista_grafi):\n",
    "        print(f\"Analizziamo il {i+1}° grafo\")\n",
    "        print(\"L'ordine del grafo, ossia il numero di nodi, è pari a\", G.order())\n",
    "        print(\"La dimensione del grafo, corrispondente al numero di lati, è\",G.size())\n",
    "        nodes_and_degrees = [(node, G.degree(node)) for node in G]\n",
    "        sorted_nodes_and_degrees = sorted(nodes_and_degrees, key=lambda x: x[1], reverse=True)\n",
    "        top_nodes_and_degrees = sorted_nodes_and_degrees[:k]\n",
    "        print(f\"I {k} nodi del {i+1}° grafo con il più alto grado sono:\",top_nodes_and_degrees)\n",
    "        if i < len(lista_grafi) - 1:\n",
    "            confronta_grafi([G, lista_grafi[i + 1]],k)\n",
    "        print(\"La densità di un grafo, definita come il rapporto tra il numero di lati \"\n",
    "              \"e il numero massimo di lati che il grafo potrebbe avere,\\n\"\n",
    "              \"è una misura che varia da 0 a 1:\"\n",
    "              \"un grafo con densita' > 0.5 e' considerato denso,\"\n",
    "              \"un grafo con densita' < 0.5 e' considerato sparso\")\n",
    "        print(f\"La densità del {i+1}° grafo è pari a\",round(nx.density(G),3))\n",
    "        print(\"Il grado medio del grafo, pari al rapporto tra la somma del grado di tutti i nodi\"\n",
    "              \"e il numero dei nodi del grafo, è pari a\",round(sum(dict(G.degree()).values())/(G.order()),3))\n",
    "        if nx.is_connected(G):\n",
    "            print(\"esiste almeno un sentiero tra ogni coppia di nodi del grafo oppure, in altri termini \\n\"\n",
    "                  \"tutti i nodi del grafo sono raggiungibili da qualsiasi altro nodo attraverso uno o piu' lati\")\n",
    "            print(f\"Il {i+1}° grafo è connesso\")\n",
    "            print(\"La distanza media, misura applicabile solamente a un grafo connesso\\n\"\n",
    "                  \"o a una sua componente connessa, corrispondente alla distanza media tra \\n\"\n",
    "                  \"tutte le coppie di nodi del grafo\"\n",
    "                  \"è pari a\", round(nx.average_shortest_path_length(G), 3),)\n",
    "        else:\n",
    "            print(f\"Il {i+1}° grafo non è connesso\")\n",
    "            print(\"Nel grafo è infatti possibile individuare\", nx.number_connected_components(G), \"componenti\")\n",
    "            print(\"Tra esse, quella più grande, che prende il nome di sottografo indotto, è composta da\",\n",
    "                  G.subgraph(max(nx.connected_components(G), key=len)).order(),\"nodi\")\n",
    "        print('\\n')"
   ]
  },
  {
   "cell_type": "code",
   "execution_count": null,
   "id": "180a76cf",
   "metadata": {
    "pycharm": {
     "name": "#%%\n"
    }
   },
   "outputs": [],
   "source": [
    "analizza_grafi(lista_grafi)"
   ]
  },
  {
   "cell_type": "markdown",
   "id": "b44ac254",
   "metadata": {
    "pycharm": {
     "name": "#%% md\n"
    }
   },
   "source": [
    "######################################### ANALISI GRAFICA DEL GRAFO #########################################\n",
    "###################################### BRIDGE E PUNTI DI ARTICOLAZIONE ######################################"
   ]
  },
  {
   "cell_type": "code",
   "execution_count": null,
   "id": "80a98630",
   "metadata": {
    "pycharm": {
     "name": "#%%\n"
    }
   },
   "outputs": [],
   "source": [
    "# Per il periodo 1949-2018\n",
    "# creiamo un grafo in cui vengono selezionati da quello principale\n",
    "# solamente i nodi con un grado superiore a 15, al fine di migliorarne la visualizzazione\n",
    "grafo = G_49_18.copy()"
   ]
  },
  {
   "cell_type": "code",
   "execution_count": null,
   "id": "84072971",
   "metadata": {
    "pycharm": {
     "name": "#%%\n"
    }
   },
   "outputs": [],
   "source": [
    "k_degree=15\n",
    "grafo = grafo.subgraph([node for node, degree in dict(grafo.degree()).items() if degree >= k_degree])"
   ]
  },
  {
   "cell_type": "code",
   "execution_count": null,
   "id": "f364b8ca",
   "metadata": {
    "pycharm": {
     "name": "#%%\n"
    }
   },
   "outputs": [],
   "source": [
    "# Creiamo un set di punti di articolazione e bridge\n",
    "# I punti di articolazione sono quei nodi di un grafo la cui rimozione\n",
    "# aumenta il numero di componenti connesse del grafo stesso.\n",
    "# In altre parole, se si rimuove un punto di articolazione dal grafo,\n",
    "# si suddivide in più parti distinte.\n",
    "articulation_points = set(nx.articulation_points(grafo))\n",
    "# Un bridge è un lato (o un insieme di archi) che, se rimosso dal grafo, \n",
    "# aumenta il numero di componenti connesse del grafo stesso. \n",
    "# In altre parole, un bridge è un arco che è essenziale per la connettività del grafo \n",
    "# e la sua rimozione divide il grafo in due o più parti distinte.\n",
    "bridges = set(nx.bridges(grafo))"
   ]
  },
  {
   "cell_type": "code",
   "execution_count": null,
   "id": "c6da5adf",
   "metadata": {
    "pycharm": {
     "name": "#%%\n"
    }
   },
   "outputs": [],
   "source": [
    "# Individuaiamo i nodi che fanno parte di archi che sono bridge\n",
    "bridge_nodes = []\n",
    "for u, v in bridges:\n",
    "    bridge_nodes.append(u)\n",
    "    bridge_nodes.append(v)"
   ]
  },
  {
   "cell_type": "code",
   "execution_count": null,
   "id": "e113527f",
   "metadata": {
    "pycharm": {
     "name": "#%%\n"
    }
   },
   "outputs": [],
   "source": [
    "bridge_nodes = list(set(bridge_nodes))"
   ]
  },
  {
   "cell_type": "code",
   "execution_count": null,
   "id": "cbe985c2",
   "metadata": {
    "pycharm": {
     "name": "#%%\n"
    }
   },
   "outputs": [],
   "source": [
    "# Stampiamo i nodi di articolazione e i bridge come set di stringhe\n",
    "print(\"I punti di articolazione del grafo 1949-2018 sono: \", {str(node) for node in articulation_points})\n",
    "print(\"I nodi che fanno parte dei bridge del grafo 1949-2018 sono: \", {str(node) for node in bridge_nodes})"
   ]
  },
  {
   "cell_type": "code",
   "execution_count": null,
   "id": "80244123",
   "metadata": {
    "pycharm": {
     "name": "#%%\n"
    }
   },
   "outputs": [],
   "source": [
    "# Calcoliamo l'intersezione come set di stringhe\n",
    "intersection = {str(node) for node in articulation_points} & {str(node) for node in bridge_nodes}\n",
    "print(intersection)"
   ]
  },
  {
   "cell_type": "code",
   "execution_count": null,
   "id": "cd8140dd",
   "metadata": {
    "pycharm": {
     "name": "#%%\n"
    }
   },
   "outputs": [],
   "source": [
    "# Creiamo un dizionario che assegna i colori ai nodi e imposta le etichette solo per i nodi di interesse\n",
    "node_colors = {}\n",
    "labels = {}\n",
    "for node in grafo.nodes():\n",
    "    if str(node) in intersection:\n",
    "        node_colors[node] = 'green'\n",
    "        labels[node] = str(node)\n",
    "    elif str(node) in articulation_points:\n",
    "        node_colors[node] = 'blue'\n",
    "        labels[node] = str(node)\n",
    "    elif str(node) in bridge_nodes:\n",
    "        node_colors[node] = 'red'\n",
    "        labels[node] = str(node)\n",
    "    else:\n",
    "        node_colors[node] = 'black'\n",
    "        labels[node] = ''"
   ]
  },
  {
   "cell_type": "code",
   "execution_count": null,
   "id": "82292fee",
   "metadata": {
    "pycharm": {
     "name": "#%%\n"
    }
   },
   "outputs": [],
   "source": [
    "# Creiamo un dizionario che assegna il colore rosso ai lati che sono bridge\n",
    "bridge_colors = {edge: 'red' for edge in bridges}"
   ]
  },
  {
   "cell_type": "code",
   "execution_count": null,
   "id": "88374096",
   "metadata": {
    "pycharm": {
     "name": "#%%\n"
    }
   },
   "outputs": [],
   "source": [
    "# Creiamo un dizionario che assegna le dimensioni ai nodi\n",
    "# in modo da distinguere punti di articolazione e nodi facente parte dei bridge\n",
    "# dal resto dei nodi\n",
    "node_sizes = {}\n",
    "for node in grafo.nodes():\n",
    "    if str(node) in intersection or str(node) in articulation_points or str(node) in bridge_nodes:\n",
    "        node_sizes[node] = 200\n",
    "    else:\n",
    "        node_sizes[node] = 1.5"
   ]
  },
  {
   "cell_type": "code",
   "execution_count": null,
   "id": "ec93368d",
   "metadata": {
    "pycharm": {
     "name": "#%%\n"
    }
   },
   "outputs": [],
   "source": [
    "# Disegniamo il grafo con etichette e colori per i nodi di interesse\n",
    "pos = nx.kamada_kawai_layout(grafo)\n",
    "nx.draw_networkx_nodes(grafo, pos=pos, node_shape='d',node_color=list(node_colors.values()), node_size=list(node_sizes.values()))\n",
    "nx.draw_networkx_edges(grafo, pos=pos, edge_color='black', width=0.02)\n",
    "nx.draw_networkx_labels(grafo, pos=pos, labels=labels, font_size=10, font_color='white',bbox=dict(facecolor='black', alpha=0.75, boxstyle='round4'),font_weight=\"bold\",font_family='sans-serif',verticalalignment='top')\n",
    "nx.draw_networkx_edges(grafo, pos=pos, edgelist=bridges, edge_color='red', width=1.5)\n",
    "# Creiamo la legenda\n",
    "legend_labels = {\n",
    "    'Punti di articolazione': 'blue',\n",
    "    'Bridge': 'red',\n",
    "    'Nodi che sono sia punti di articolazione che facenti parte di bridge': 'green'\n",
    "}\n",
    "plt.legend(handles=[plt.Line2D([], [], color=color, label=label) for label, color in legend_labels.items()], loc='best')"
   ]
  },
  {
   "cell_type": "code",
   "execution_count": null,
   "id": "e048dcb4",
   "metadata": {
    "pycharm": {
     "name": "#%%\n"
    }
   },
   "outputs": [],
   "source": [
    "# Salviamo il grafo sotto forma di svg \n",
    "# (si può modificare la risoluzione dell'immagine - ridurre a 300 se troppo \"pesante\")\n",
    "plt.savefig('Grafo bridge 49_18 degree_15.svg', dpi=1800, pad_inches=0)"
   ]
  },
  {
   "cell_type": "code",
   "execution_count": null,
   "id": "e9b1c54c",
   "metadata": {
    "lines_to_next_cell": 2,
    "pycharm": {
     "name": "#%%\n"
    }
   },
   "outputs": [],
   "source": [
    "# Mostriamo il grafo\n",
    "plt.show()"
   ]
  },
  {
   "cell_type": "code",
   "execution_count": null,
   "id": "485d6f7f",
   "metadata": {
    "pycharm": {
     "name": "#%%\n"
    }
   },
   "outputs": [],
   "source": [
    "# Ripetiamo lo stesso procedimento anche per il periodo 2019-2023\n",
    "# scegliendo però questa volta un filtro in termini di grado dei nodi pari a 100\n",
    "# al fine di ridurre la numerosità\n",
    "grafo = G_19_23.copy()"
   ]
  },
  {
   "cell_type": "code",
   "execution_count": null,
   "id": "27896d7a",
   "metadata": {
    "pycharm": {
     "name": "#%%\n"
    }
   },
   "outputs": [],
   "source": [
    "k_degree=100\n",
    "grafo = grafo.subgraph([node for node, degree in dict(grafo.degree()).items() if degree >= k_degree])"
   ]
  },
  {
   "cell_type": "code",
   "execution_count": null,
   "id": "17603a0a",
   "metadata": {
    "pycharm": {
     "name": "#%%\n"
    }
   },
   "outputs": [],
   "source": [
    "articulation_points = set(nx.articulation_points(grafo))\n",
    "bridges = set(nx.bridges(grafo))"
   ]
  },
  {
   "cell_type": "code",
   "execution_count": null,
   "id": "86a88962",
   "metadata": {
    "pycharm": {
     "name": "#%%\n"
    }
   },
   "outputs": [],
   "source": [
    "bridge_nodes = []\n",
    "for u, v in bridges:\n",
    "    bridge_nodes.append(u)\n",
    "    bridge_nodes.append(v)"
   ]
  },
  {
   "cell_type": "code",
   "execution_count": null,
   "id": "975830cf",
   "metadata": {
    "pycharm": {
     "name": "#%%\n"
    }
   },
   "outputs": [],
   "source": [
    "bridge_nodes = list(set(bridge_nodes))"
   ]
  },
  {
   "cell_type": "code",
   "execution_count": null,
   "id": "cfeff7e2",
   "metadata": {
    "pycharm": {
     "name": "#%%\n"
    }
   },
   "outputs": [],
   "source": [
    "print(\"I punti di articolazione del grafo 2019-2023 sono: \", {str(node) for node in articulation_points})\n",
    "print(\"I nodi che fanno parte dei bridge del grafo 2019-2023 sono: \", {str(node) for node in bridge_nodes})"
   ]
  },
  {
   "cell_type": "code",
   "execution_count": null,
   "id": "8ba068b0",
   "metadata": {
    "pycharm": {
     "name": "#%%\n"
    }
   },
   "outputs": [],
   "source": [
    "intersection = {str(node) for node in articulation_points} & {str(node) for node in bridge_nodes}\n",
    "print(intersection)"
   ]
  },
  {
   "cell_type": "code",
   "execution_count": null,
   "id": "e9503678",
   "metadata": {
    "pycharm": {
     "name": "#%%\n"
    }
   },
   "outputs": [],
   "source": [
    "node_colors = {}\n",
    "labels = {}\n",
    "for node in grafo.nodes():\n",
    "    if str(node) in intersection:\n",
    "        node_colors[node] = 'green'\n",
    "        labels[node] = str(node)\n",
    "    elif str(node) in articulation_points:\n",
    "        node_colors[node] = 'blue'\n",
    "        labels[node] = str(node)\n",
    "    elif str(node) in bridge_nodes:\n",
    "        node_colors[node] = 'red'\n",
    "        labels[node] = str(node)\n",
    "    else:\n",
    "        node_colors[node] = 'black'\n",
    "        labels[node] = ''"
   ]
  },
  {
   "cell_type": "code",
   "execution_count": null,
   "id": "d1d23424",
   "metadata": {
    "pycharm": {
     "name": "#%%\n"
    }
   },
   "outputs": [],
   "source": [
    "bridge_colors = {edge: 'red' for edge in bridges}"
   ]
  },
  {
   "cell_type": "code",
   "execution_count": null,
   "id": "ee61e893",
   "metadata": {
    "pycharm": {
     "name": "#%%\n"
    }
   },
   "outputs": [],
   "source": [
    "node_sizes = {}\n",
    "for node in grafo.nodes():\n",
    "    if str(node) in intersection or str(node) in articulation_points or str(node) in bridge_nodes:\n",
    "        node_sizes[node] = 200\n",
    "    else:\n",
    "        node_sizes[node] = 1.5"
   ]
  },
  {
   "cell_type": "code",
   "execution_count": null,
   "id": "a153d9f0",
   "metadata": {
    "pycharm": {
     "name": "#%%\n"
    }
   },
   "outputs": [],
   "source": [
    "pos = nx.kamada_kawai_layout(grafo)\n",
    "print(\"fatto 6\")\n",
    "nx.draw_networkx_nodes(grafo, pos=pos, node_shape='d',node_color=list(node_colors.values()), node_size=list(node_sizes.values()))\n",
    "print(\"fatto 7\")\n",
    "nx.draw_networkx_edges(grafo, pos=pos, edge_color='black', width=0.02)\n",
    "print(\"fatto 8\")\n",
    "nx.draw_networkx_labels(grafo, pos=pos, labels=labels, font_size=10, font_color='white',bbox=dict(facecolor='black', alpha=0.75, boxstyle='round4'),font_weight=\"bold\",font_family='sans-serif',verticalalignment='top')\n",
    "nx.draw_networkx_edges(grafo, pos=pos, edgelist=bridges, edge_color='red', width=1.5)"
   ]
  },
  {
   "cell_type": "code",
   "execution_count": null,
   "id": "6e53beb9",
   "metadata": {
    "pycharm": {
     "name": "#%%\n"
    }
   },
   "outputs": [],
   "source": [
    "legend_labels = {\n",
    "    'Punti di articolazione': 'blue',\n",
    "    'Bridge': 'red',\n",
    "    'Nodi che sono sia punti di articolazione che facenti parte di bridge': 'green'\n",
    "}\n",
    "plt.legend(handles=[plt.Line2D([], [], color=color, label=label) for label, color in legend_labels.items()], loc='best')"
   ]
  },
  {
   "cell_type": "code",
   "execution_count": null,
   "id": "c069e6a5",
   "metadata": {
    "pycharm": {
     "name": "#%%\n"
    }
   },
   "outputs": [],
   "source": [
    "plt.savefig('Grafo bridge 19_23 degree_100.svg', dpi=1800, pad_inches=0)"
   ]
  },
  {
   "cell_type": "code",
   "execution_count": null,
   "id": "5ff23b22",
   "metadata": {
    "pycharm": {
     "name": "#%%\n"
    }
   },
   "outputs": [],
   "source": [
    "plt.show()"
   ]
  },
  {
   "cell_type": "markdown",
   "id": "a94a26ba",
   "metadata": {
    "pycharm": {
     "name": "#%% md\n"
    }
   },
   "source": [
    "############################################# CLUSTERING #################################################"
   ]
  },
  {
   "cell_type": "markdown",
   "id": "b5750033",
   "metadata": {
    "pycharm": {
     "name": "#%% md\n"
    }
   },
   "source": [
    "Per ogni periodo considerato abbiamo analizzato il sottografo indotto,\n",
    "ossia la componente connessa più grande del grafo\n",
    "Analizzare tutto il grafo sarebbe stato troppo oneroso da un punto\n",
    "di vista computazionale"
   ]
  },
  {
   "cell_type": "code",
   "execution_count": null,
   "id": "03b51750",
   "metadata": {
    "pycharm": {
     "name": "#%%\n"
    }
   },
   "outputs": [],
   "source": [
    "# Per il periodo 1949-2018 scegliamo di eliminare i nodi che hanno un grado inferiore a 15\n",
    "k_degree = 15"
   ]
  },
  {
   "cell_type": "code",
   "execution_count": null,
   "id": "33e7a542",
   "metadata": {
    "pycharm": {
     "name": "#%%\n"
    }
   },
   "outputs": [],
   "source": [
    "grafo = G_49_18.copy()\n",
    "grafo_49_18 = grafo.subgraph([node for node, degree in dict(grafo.degree()).items() if degree >= k_degree])"
   ]
  },
  {
   "cell_type": "code",
   "execution_count": null,
   "id": "e3abd8d4",
   "metadata": {
    "lines_to_next_cell": 2,
    "pycharm": {
     "name": "#%%\n"
    }
   },
   "outputs": [],
   "source": [
    "# Individuiamo la componente connessa più grande\n",
    "componente_massima_49_18 = max(nx.connected_components(grafo_49_18), key=len)\n",
    "sottografo_indotto_49_18 = grafo.subgraph(componente_massima_49_18)"
   ]
  },
  {
   "cell_type": "code",
   "execution_count": null,
   "id": "3ba92f61",
   "metadata": {
    "pycharm": {
     "name": "#%%\n"
    }
   },
   "outputs": [],
   "source": [
    "# Individua i cluster tramite l'algoritmo di Louvain\n",
    "# L'algoritmo di Louvain è un algoritmo di clustering gerarchico per grafi.\n",
    "# Cerca di dividere un grafo in gruppi (cluster) di nodi in modo che i nodi all'interno\n",
    "# di ciascun cluster siano fortemente connessi tra loro, mentre i nodi in cluster diversi siano poco connessi.\n",
    "# In sintesi, l'algoritmo di Louvain cerca di ottimizzare una funzione di modularità\n",
    "# che misura la densità dei collegamenti all'interno dei cluster rispetto ai collegamenti tra i cluster,\n",
    "# e utilizza questo criterio per suddividere il grafo in cluster.\n",
    "# Rispetto all'algoritmo di Girvan-Newman, basato sulla betweenness dei lati, Louvain consente\n",
    "# la gestione di grafi di grandi dimensioni e ordine.\n",
    "partition_49_18 = community_louvain.best_partition(sottografo_indotto_49_18)"
   ]
  },
  {
   "cell_type": "code",
   "execution_count": null,
   "id": "b86594b0",
   "metadata": {
    "pycharm": {
     "name": "#%%\n"
    }
   },
   "outputs": [],
   "source": [
    "# Individuiamo i 10 nodi con il più alto valore di betweenness centrality all'interno del sottografo indotto\n",
    "betweenness = nx.betweenness_centrality(sottografo_indotto_49_18)\n",
    "top_betweenness_49_18 = dict(sorted(betweenness.items(), key=itemgetter(1), reverse=True)[:10])"
   ]
  },
  {
   "cell_type": "code",
   "execution_count": null,
   "id": "ca3042ff",
   "metadata": {
    "pycharm": {
     "name": "#%%\n"
    }
   },
   "outputs": [],
   "source": [
    "# Generiamo una lista di colori dei nodi basato sulla partizione di Louvain\n",
    "color_list = ['red', 'green', 'blue', 'yellow', 'orange', 'purple', 'pink', 'brown', 'midnightblue', 'ivory', 'cyan', 'magenta', 'lime', 'olive', 'gold', 'navy', 'teal', 'maroon', 'coral', 'turquoise', 'indigo', 'silver', 'orchid', 'violet', 'khaki', 'salmon', 'tan', 'lavender', 'dimgray']"
   ]
  },
  {
   "cell_type": "code",
   "execution_count": null,
   "id": "59799940",
   "metadata": {
    "pycharm": {
     "name": "#%%\n"
    }
   },
   "outputs": [],
   "source": [
    "# Creiamo un dizionario che associa ad ogni cluster il suo colore\n",
    "color_dict = {cluster: color_list[i % len(color_list)] for i, cluster in enumerate(set(partition_49_18.values()))}"
   ]
  },
  {
   "cell_type": "code",
   "execution_count": null,
   "id": "3e73340d",
   "metadata": {
    "pycharm": {
     "name": "#%%\n"
    }
   },
   "outputs": [],
   "source": [
    "# Associamo a ogni nodo del sottografo un colore\n",
    "node_colors = [color_dict[partition_49_18[node]] for node in sottografo_indotto_49_18.nodes()]"
   ]
  },
  {
   "cell_type": "code",
   "execution_count": null,
   "id": "107e25df",
   "metadata": {
    "pycharm": {
     "name": "#%%\n"
    }
   },
   "outputs": [],
   "source": [
    "# Disegniamo il grafo colorando ciascun nodo in base al cluster di appartenenza\n",
    "pos = nx.kamada_kawai_layout(sottografo_indotto_49_18)\n",
    "nx.draw_networkx_nodes(sottografo_indotto_49_18, pos, node_color=node_colors, node_size=75,edgecolors='black', linewidths=0.2)\n",
    "nx.draw_networkx_edges(sottografo_indotto_49_18, pos, width=0.1)"
   ]
  },
  {
   "cell_type": "code",
   "execution_count": null,
   "id": "25555f1a",
   "metadata": {
    "pycharm": {
     "name": "#%%\n"
    }
   },
   "outputs": [],
   "source": [
    "# Rappresentiamo le etichette dei 10 nodi con il più alto valore di betweenness\n",
    "top_betweenness_labels = {k: k for k in top_betweenness_49_18}\n",
    "for node, label in top_betweenness_labels.items():\n",
    "    nx.draw_networkx_labels(sottografo_indotto_49_18, {node: pos[node]}, labels={node: label},\n",
    "                            font_size=10, font_color=color_dict[partition_49_18[node]], bbox=dict(facecolor='black', alpha=0.75, boxstyle='round4'))"
   ]
  },
  {
   "cell_type": "code",
   "execution_count": null,
   "id": "f5c1755d",
   "metadata": {
    "pycharm": {
     "name": "#%%\n"
    }
   },
   "outputs": [],
   "source": [
    "# Creiamo una legenda\n",
    "handles = []\n",
    "for cluster in set(partition_49_18.values()):\n",
    "    handles.append(plt.scatter([],[], color=color_dict[cluster]))\n",
    "plt.legend(handles, [f'Cluster {cluster}' for cluster in set(partition_49_18.values())], loc='upper right', title='Clusters')"
   ]
  },
  {
   "cell_type": "code",
   "execution_count": null,
   "id": "f344189a",
   "metadata": {
    "pycharm": {
     "name": "#%%\n"
    }
   },
   "outputs": [],
   "source": [
    "# Stampiamo a video il numero di cluster individuati\n",
    "num_clusters = len(set(partition_49_18.values()))\n",
    "print(f\"Numero di cluster individuati: {num_clusters}\")"
   ]
  },
  {
   "cell_type": "code",
   "execution_count": null,
   "id": "40e52fe2",
   "metadata": {
    "pycharm": {
     "name": "#%%\n"
    }
   },
   "outputs": [],
   "source": [
    "# Mostriamo i nodi per ogni cluster e il relativo colore così da facilitarne l'analisi grafica\n",
    "for cluster in set(partition_49_18.values()):\n",
    "    print(f\"\\nCluster {cluster} - colore: {color_dict[cluster]}\")\n",
    "    nodes = [node for node in sottografo_indotto_49_18.nodes() if partition_49_18[node] == cluster]\n",
    "    print(f\"Nodi: {nodes}\")"
   ]
  },
  {
   "cell_type": "code",
   "execution_count": null,
   "id": "eb493d2a",
   "metadata": {
    "pycharm": {
     "name": "#%%\n"
    }
   },
   "outputs": [],
   "source": [
    "# Salviamo la figura\n",
    "plt.savefig('Cluster 49_18 degree_15.svg', dpi=1800, pad_inches=0)"
   ]
  },
  {
   "cell_type": "code",
   "execution_count": null,
   "id": "38df9319",
   "metadata": {
    "lines_to_next_cell": 2,
    "pycharm": {
     "name": "#%%\n"
    }
   },
   "outputs": [],
   "source": [
    "# Mostriamo il grafico\n",
    "plt.show()"
   ]
  },
  {
   "cell_type": "code",
   "execution_count": null,
   "id": "86d38b0b",
   "metadata": {
    "pycharm": {
     "name": "#%%\n"
    }
   },
   "outputs": [],
   "source": [
    "# Ripetiamo il procedimento anche per il periodo 2019-2023\n",
    "# Questa volta impostiamo un filtro per il grado dei nodi da analizzare pari a 100\n",
    "k_degree = 100"
   ]
  },
  {
   "cell_type": "code",
   "execution_count": null,
   "id": "4eeeaa77",
   "metadata": {
    "pycharm": {
     "name": "#%%\n"
    }
   },
   "outputs": [],
   "source": [
    "grafo = G_19_23.copy()\n",
    "grafo_19_23 = grafo.subgraph([node for node, degree in dict(grafo.degree()).items() if degree >= k_degree])"
   ]
  },
  {
   "cell_type": "code",
   "execution_count": null,
   "id": "2ef57fd8",
   "metadata": {
    "lines_to_next_cell": 2,
    "pycharm": {
     "name": "#%%\n"
    }
   },
   "outputs": [],
   "source": [
    "componente_massima_19_23 = max(nx.connected_components(grafo_19_23), key=len)\n",
    "sottografo_indotto_19_23 = grafo.subgraph(componente_massima_19_23)"
   ]
  },
  {
   "cell_type": "code",
   "execution_count": null,
   "id": "769349af",
   "metadata": {
    "pycharm": {
     "name": "#%%\n"
    }
   },
   "outputs": [],
   "source": [
    "partition_19_23 = community_louvain.best_partition(sottografo_indotto_19_23)"
   ]
  },
  {
   "cell_type": "code",
   "execution_count": null,
   "id": "0b6ae195",
   "metadata": {
    "pycharm": {
     "name": "#%%\n"
    }
   },
   "outputs": [],
   "source": [
    "betweenness = nx.betweenness_centrality(sottografo_indotto_19_23)\n",
    "top_betweenness_19_23 = dict(sorted(betweenness.items(), key=itemgetter(1), reverse=True)[:10])"
   ]
  },
  {
   "cell_type": "code",
   "execution_count": null,
   "id": "fff43c79",
   "metadata": {
    "pycharm": {
     "name": "#%%\n"
    }
   },
   "outputs": [],
   "source": [
    "color_list = ['red', 'green', 'blue', 'yellow', 'orange', 'purple', 'pink', 'brown', 'midnightblue', 'ivory', 'cyan', 'magenta', 'lime', 'olive', 'gold', 'navy', 'teal', 'maroon', 'coral', 'turquoise', 'indigo', 'silver', 'orchid', 'violet', 'khaki', 'salmon', 'tan', 'lavender', 'dimgray']"
   ]
  },
  {
   "cell_type": "code",
   "execution_count": null,
   "id": "b3f3bae4",
   "metadata": {
    "pycharm": {
     "name": "#%%\n"
    }
   },
   "outputs": [],
   "source": [
    "color_dict = {cluster: color_list[i % len(color_list)] for i, cluster in enumerate(set(partition_19_23.values()))}"
   ]
  },
  {
   "cell_type": "code",
   "execution_count": null,
   "id": "b0bd2ad8",
   "metadata": {
    "pycharm": {
     "name": "#%%\n"
    }
   },
   "outputs": [],
   "source": [
    "node_colors = [color_dict[partition_19_23[node]] for node in sottografo_indotto_19_23.nodes()]"
   ]
  },
  {
   "cell_type": "code",
   "execution_count": null,
   "id": "a06a3bf0",
   "metadata": {
    "pycharm": {
     "name": "#%%\n"
    }
   },
   "outputs": [],
   "source": [
    "pos = nx.kamada_kawai_layout(sottografo_indotto_19_23)\n",
    "nx.draw_networkx_nodes(sottografo_indotto_19_23, pos, node_color=node_colors, node_size=75,edgecolors='black', linewidths=0.2)\n",
    "nx.draw_networkx_edges(sottografo_indotto_19_23, pos, width=0.1)"
   ]
  },
  {
   "cell_type": "code",
   "execution_count": null,
   "id": "a0bb4fb2",
   "metadata": {
    "pycharm": {
     "name": "#%%\n"
    }
   },
   "outputs": [],
   "source": [
    "top_betweenness_labels = {k: k for k in top_betweenness_19_23}\n",
    "for node, label in top_betweenness_labels.items():\n",
    "    nx.draw_networkx_labels(sottografo_indotto_19_23, {node: pos[node]}, labels={node: label},\n",
    "                            font_size=10, font_color=color_dict[partition_19_23[node]], bbox=dict(facecolor='black', alpha=0.75, boxstyle='round4'))"
   ]
  },
  {
   "cell_type": "code",
   "execution_count": null,
   "id": "338a0048",
   "metadata": {
    "pycharm": {
     "name": "#%%\n"
    }
   },
   "outputs": [],
   "source": [
    "handles = []\n",
    "for cluster in set(partition_19_23.values()):\n",
    "    handles.append(plt.scatter([],[], color=color_dict[cluster]))\n",
    "plt.legend(handles, [f'Cluster {cluster}' for cluster in set(partition_19_23.values())], loc='upper right', title='Clusters')"
   ]
  },
  {
   "cell_type": "code",
   "execution_count": null,
   "id": "9a4f4fa5",
   "metadata": {
    "pycharm": {
     "name": "#%%\n"
    }
   },
   "outputs": [],
   "source": [
    "num_clusters = len(set(partition_19_23.values()))\n",
    "print(f\"Numero di cluster individuati: {num_clusters}\")"
   ]
  },
  {
   "cell_type": "code",
   "execution_count": null,
   "id": "abf3d8a6",
   "metadata": {
    "pycharm": {
     "name": "#%%\n"
    }
   },
   "outputs": [],
   "source": [
    "for cluster in set(partition_19_23.values()):\n",
    "    print(f\"\\nCluster {cluster} - colore: {color_dict[cluster]}\")\n",
    "    nodes = [node for node in partition_19_23.nodes() if partition_19_23[node] == cluster]\n",
    "    print(f\"Nodi: {nodes}\")"
   ]
  },
  {
   "cell_type": "code",
   "execution_count": null,
   "id": "f9d945d2",
   "metadata": {
    "pycharm": {
     "name": "#%%\n"
    }
   },
   "outputs": [],
   "source": [
    "plt.savefig('Cluster 19_23 degree_100.svg', dpi=1800, pad_inches=0)"
   ]
  },
  {
   "cell_type": "code",
   "execution_count": null,
   "id": "dc028314",
   "metadata": {
    "pycharm": {
     "name": "#%%\n"
    }
   },
   "outputs": [],
   "source": [
    "plt.show()"
   ]
  }
 ],
 "metadata": {
  "jupytext": {
   "cell_metadata_filter": "-all",
   "main_language": "python",
   "notebook_metadata_filter": "-all"
  }
 },
 "nbformat": 4,
 "nbformat_minor": 5
}