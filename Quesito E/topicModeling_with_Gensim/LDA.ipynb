{
 "cells": [
  {
   "cell_type": "code",
   "execution_count": null,
   "id": "ab7e19f5",
   "metadata": {
    "lines_to_next_cell": 0
   },
   "outputs": [],
   "source": []
  },
  {
   "cell_type": "code",
   "execution_count": null,
   "id": "e7e38618",
   "metadata": {},
   "outputs": [],
   "source": [
    "import gensim\n",
    "def create_lda_model(corpus, dictionary, n_topics, n_words):\n",
    "    \"\"\"\n",
    "    Input  : clean document, number of topics and number of words associated with each topic\n",
    "    Purpose: create LSA model using gensim\n",
    "    Output : return LSA model\n",
    "    \"\"\"\n",
    "    # generate LDA model\n",
    "    lda_model = gensim.models.ldamodel.LdaModel(corpus=corpus,\n",
    "                                                id2word=dictionary,\n",
    "                                                num_topics=n_topics,\n",
    "                                                random_state=18,\n",
    "                                                update_every=1,\n",
    "                                                chunksize=10,\n",
    "                                                passes=10,\n",
    "                                                alpha='symmetric',\n",
    "                                                iterations=100,\n",
    "                                                per_word_topics=True)\n",
    "    print(lda_model.print_topics(num_topics=n_topics, num_words=n_words))\n",
    "    return lda_model\n",
    "#Coherence values for varying the number of topics\n",
    "def compute_coherence_values_lda(corpus, dictionary, texts, start, limit, step):\n",
    "    \"\"\"\n",
    "    Input   : dictionary : Gensim dictionary\n",
    "              corpus : Gensim corpus\n",
    "              texts : List of input texts\n",
    "              limit : Max num of topics\n",
    "    purpose : Compute c_v coherence for various number of topics\n",
    "    Output  : model_list : List of LDA topic models\n",
    "              coherence_values : Coherence values corresponding to the LDA model with respective number of topics\n",
    "    \"\"\"\n",
    "    coherence_values = []\n",
    "    model_list = []\n",
    "    for num_topics in range(start, limit, step):\n",
    "        model = gensim.models.LdaMulticore(corpus=corpus,\n",
    "                                           id2word=dictionary,\n",
    "                                           num_topics=num_topics,\n",
    "                                           random_state=1,\n",
    "                                           passes=1)\n",
    "        model_list.append(model)\n",
    "        coherencemodel = gensim.models.CoherenceModel(model=model, texts=texts, dictionary=dictionary, coherence='c_v')\n",
    "        coherence_values.append(coherencemodel.get_coherence())\n",
    "    return model_list, coherence_values"
   ]
  }
 ],
 "metadata": {
  "jupytext": {
   "cell_metadata_filter": "-all",
   "main_language": "python",
   "notebook_metadata_filter": "-all"
  }
 },
 "nbformat": 4,
 "nbformat_minor": 5
}
