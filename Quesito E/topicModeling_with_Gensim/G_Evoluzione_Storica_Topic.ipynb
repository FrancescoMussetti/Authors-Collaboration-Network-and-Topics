{
 "cells": [
  {
   "cell_type": "code",
   "execution_count": null,
   "id": "895f3daf",
   "metadata": {},
   "outputs": [],
   "source": [
    "import pandas as pd\n",
    "import matplotlib.pyplot as plt"
   ]
  },
  {
   "cell_type": "code",
   "execution_count": null,
   "id": "b26842cf",
   "metadata": {
    "lines_to_next_cell": 1
   },
   "outputs": [],
   "source": [
    "# Caricamento del dataset\n",
    "dataset = pd.read_excel(\"Dataset_Corona_1949_2023_TOPIC.xlsx\")"
   ]
  },
  {
   "cell_type": "code",
   "execution_count": null,
   "id": "3a7a1d78",
   "metadata": {
    "lines_to_next_cell": 1
   },
   "outputs": [],
   "source": [
    "def plot_topic_evolution(dataset, start_year=None, end_year=None):\n",
    "    # Raggruppamento per topic e anno e conteggio del numero di articoli per ogni gruppo\n",
    "    df = dataset.groupby([\"Dominant_Topic\", \"Publication Year\"]).size().reset_index(name=\"Count\")\n",
    "\n",
    "    # Filtraggio per anno di inizio e fine, se specificati\n",
    "    if start_year is not None:\n",
    "        df = df[df[\"Publication Year\"] >= start_year]\n",
    "    if end_year is not None:\n",
    "        df = df[df[\"Publication Year\"] <= end_year]\n",
    "\n",
    "    # Pivot del dataframe per avere i topic come colonne e gli anni come indice\n",
    "    df_pivot = df.pivot(index=\"Publication Year\", columns=\"Dominant_Topic\", values=\"Count\").fillna(0)\n",
    "\n",
    "    # Plot delle linee spezzate per ogni topic\n",
    "    fig, ax = plt.subplots()\n",
    "    for topic in df_pivot.columns:\n",
    "        ax.plot(df_pivot.index, df_pivot[topic], label=f\"Topic {topic}\")\n",
    "    ax.legend()\n",
    "    ax.set_xlabel('Anno')\n",
    "    ax.set_ylabel('Frequenza del Topic')\n",
    "    ax.set_title('Evoluzione dei Topic')\n",
    "    plt.show()"
   ]
  },
  {
   "cell_type": "code",
   "execution_count": null,
   "id": "d43a9186",
   "metadata": {},
   "outputs": [],
   "source": [
    "plot_topic_evolution(dataset,start_year=2015,end_year=2023)"
   ]
  }
 ],
 "metadata": {
  "jupytext": {
   "cell_metadata_filter": "-all",
   "main_language": "python",
   "notebook_metadata_filter": "-all"
  }
 },
 "nbformat": 4,
 "nbformat_minor": 5
}
