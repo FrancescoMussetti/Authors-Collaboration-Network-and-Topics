{
 "cells": [
  {
   "cell_type": "code",
   "execution_count": null,
   "id": "316bd217",
   "metadata": {},
   "outputs": [],
   "source": [
    "import string\n",
    "import nltk\n",
    "import re\n",
    "def tokenizer(text):\n",
    "        stopwords = nltk.corpus.stopwords.words('english')\n",
    "        wnl = nltk.WordNetLemmatizer()\n",
    "        text_without_punctuation = re.sub(\"\\W\", \" \", text)\n",
    "        text_clean = re.sub(\"\\d\", \" \", text_without_punctuation)\n",
    "        tokens = [t for t in nltk.word_tokenize(text_clean.lower())\n",
    "                    if t not in string.punctuation\n",
    "                    and t not in stopwords\n",
    "                    and len(t) > 2\n",
    "                  ]\n",
    "        return [wnl.lemmatize(t) for t in tokens]"
   ]
  }
 ],
 "metadata": {
  "jupytext": {
   "cell_metadata_filter": "-all",
   "main_language": "python",
   "notebook_metadata_filter": "-all"
  }
 },
 "nbformat": 4,
 "nbformat_minor": 5
}
