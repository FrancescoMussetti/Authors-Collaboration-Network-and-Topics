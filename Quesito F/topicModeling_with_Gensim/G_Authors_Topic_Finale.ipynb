{
 "cells": [
  {
   "cell_type": "markdown",
   "id": "fc4c6370",
   "metadata": {},
   "source": [
    "############################### DESCRIZIONE ###################################\n",
    "## Nel seguente codice riprendiamo l'analisi effettuata sui collegamenti tra gli Autori che hanno collaborato\n",
    "## ad una stessa pubblicazione scientifica in ambito \"Coronavirus\" durante il periodo di riferimento indicato.\n",
    "##  Nel dettaglio andremo a integrare l'analisi precedente con le informazioni ottenute dalla Topic Modeling precedentemente\n",
    "## effettuata in modo da individuare, per quanto possibile, gli argomenti trattati da ogni singolo autore nel periodo di riferimento\n",
    "## e visualizzandoli direttamente nel grafo attraverso un codice colore che identifica i differenti Topic."
   ]
  },
  {
   "cell_type": "markdown",
   "id": "4382d415",
   "metadata": {},
   "source": [
    "## In particolare il seguente codice genera due distinti grafici:"
   ]
  },
  {
   "cell_type": "markdown",
   "id": "b4e3e8bb",
   "metadata": {},
   "source": [
    "## 1) Il primo è il grafo  attraverso il quale riusciamo a visualizzare:\n",
    "## - I nodi, rappresentanti ogni singolo Autore, colorati in base al Topic maggiormente trattato da quel autore nel periodo di riferimento e\n",
    "## le cui dimensioni sono date dalla rispettiva Degree (numero di archi in entrata), dunque maggiore degree maggiore grandezza del nodo.\n",
    "# # - Gli edge, che rappresentano i collegamenti tra Autori che hanno collaborato ad una stessa pubblicazione,\n",
    "dove lo spessore dell'edge è rappresentativo del peso dello stesso, quindi di quante collaborazioni hanno effettivamente avuto i due autori collegati."
   ]
  },
  {
   "cell_type": "markdown",
   "id": "34f0c208",
   "metadata": {},
   "source": [
    "## 2) Il secondo è un grafico a barre sovrapposte attraverso il quale riusciamo a visualizzare:\n",
    "## - La Degree dei primi 10 Nodi con maggior degree pesata per numero di collaborazioni e dunque l'elenco dei rispettivi 10 Autori con maggiori collaborazioni.\n",
    "## - Le proporzioni di ciascun Topic trattato da ogni singolo autore della TOP10 nel periodo di riferimento."
   ]
  },
  {
   "cell_type": "markdown",
   "id": "f44b66db",
   "metadata": {
    "lines_to_next_cell": 2
   },
   "source": [
    "## Un maggior grado di dettaglio è fornito per ciascun blocco di codice è fornito a seguire:"
   ]
  },
  {
   "cell_type": "markdown",
   "id": "3c72e7c5",
   "metadata": {
    "lines_to_next_cell": 2
   },
   "source": [
    "## NB: E' possibile effettuare l'analisi  di prova suddividendo il Dataframe iniziale  in parti minori e si analizza\n",
    "## il dataset frazionato  al fine di allegerire il calcolo e visualizzare in tempi più brevi i grafi."
   ]
  },
  {
   "cell_type": "code",
   "execution_count": null,
   "id": "2252603c",
   "metadata": {},
   "outputs": [],
   "source": [
    "## ++++++++++++++++++++++++++++++++++++++++++++++++++++++++++++++++++++++++++++++++++++++++++++++++++++++++++++++++++++++\n",
    "#####################################               CODICE                   #######################################\n",
    "###################################################################################################################\n",
    "########################################## Import Packages  ##########################\n",
    "from matplotlib.lines import Line2D\n",
    "import random\n",
    "import pandas as pd\n",
    "import warnings\n",
    "import networkx as nx\n",
    "import matplotlib.pyplot as plt\n",
    "import plotly.express as px\n",
    "from collections import Counter\n",
    "warnings.filterwarnings(\"ignore\")"
   ]
  },
  {
   "cell_type": "code",
   "execution_count": null,
   "id": "3e6b574a",
   "metadata": {
    "lines_to_next_cell": 2
   },
   "outputs": [],
   "source": [
    "##########################################CARICAMENTO E PREPROCESSING ######################################\n",
    "#Carichiamo i dati nel dataframe selezionando il periodo di riferimento desiderato:\n",
    "df = pd.read_excel(\"./Dataset_Topic/Dataset_Corona_1949_2023_TOPIC.xlsx\")\n",
    "# definisci l'intervallo di anni  da analizzare desiderato:\n",
    "publication_year_interval = (2019, 2023)\n",
    "# seleziona solo le righe che rientrano nell'intervallo di anni desiderato\n",
    "df = df[(df[\"Publication Year\"] >= publication_year_interval[0]) & (df[\"Publication Year\"] <= publication_year_interval[1])]"
   ]
  },
  {
   "cell_type": "markdown",
   "id": "62947698",
   "metadata": {},
   "source": [
    "#### Se si vuole allegerire il calcolo effettuare il seguente codice:\n",
    "#### Seleziona casualmente il 95% delle righe del dataframe:\n",
    "df_part_1 = df.sample(frac=0.95, random_state=1234)\n",
    "# Seleziona il restante 5% delle righe del dataframe:\n",
    "df_part_2 = df.drop(df_part_1.index)\n",
    "df = df_part_2"
   ]
  },
  {
   "cell_type": "code",
   "execution_count": null,
   "id": "6fd111c0",
   "metadata": {},
   "outputs": [],
   "source": [
    "# # #Creiamo un nuovo Dataframe che contiene le informazioni del Df originario, ma per ciascun Autore presente\n",
    "# nelle righe della colonna \"Authors\", inoltre ripuliamo da tutti i possibili caratteri indesidrati.\n",
    "df_authors = (\n",
    "    df.assign(Authors=df[\"Authors\"].astype(str).str.strip().str.split(\",\"))\n",
    "    .explode(\"Authors\")\n",
    "    .drop_duplicates()"
   ]
  },
  {
   "cell_type": "code",
   "execution_count": null,
   "id": "19aa03da",
   "metadata": {},
   "outputs": [],
   "source": [
    ")\n",
    "df_authors[\"Authors\"] = df_authors[\"Authors\"].str.strip()"
   ]
  },
  {
   "cell_type": "code",
   "execution_count": null,
   "id": "fffb72a7",
   "metadata": {
    "lines_to_next_cell": 2
   },
   "outputs": [],
   "source": [
    "# Selezionare le righe contenenti \"et al\" e eliminarle\n",
    "df_authors = df_authors.loc[df_authors[\"Authors\"] != \"et al\"].copy()"
   ]
  },
  {
   "cell_type": "code",
   "execution_count": null,
   "id": "f1187114",
   "metadata": {},
   "outputs": [],
   "source": [
    "# Filtriamo gli autori che hanno un numero di pubblicazioni maggiore di (scegliere il valore):\n",
    "authors = df_authors[\"Authors\"].value_counts()[df_authors[\"Authors\"].value_counts() >= 2].index.tolist()\n",
    "df_authors = df_authors[df_authors[\"Authors\"].isin(authors)]"
   ]
  },
  {
   "cell_type": "code",
   "execution_count": null,
   "id": "16660fa8",
   "metadata": {},
   "outputs": [],
   "source": [
    "# ########################################## CREAZIONE GRAFO ################################\n",
    "#### Crea un grafo vuoto con:\n",
    "G = nx.Graph()\n",
    "# Aggiungi gli autori come nodi al grafo con:\n",
    "G.add_nodes_from(authors)"
   ]
  },
  {
   "cell_type": "code",
   "execution_count": null,
   "id": "a85bdaf9",
   "metadata": {},
   "outputs": [],
   "source": [
    "# Creaiamo un dizionario che associ a ogni PMID gli autori che hanno lavorato su quel PMID:\n",
    "coauthors = {}\n",
    "for pmid, group in df_authors.groupby(\"PMID\"):\n",
    "    coauthors[pmid] = list(group[\"Authors\"])\n",
    "# Aggiungiamo gli archi al grafo tra coautori che hanno lo stesso PMID:\n",
    "for pmid, authors in coauthors.items():\n",
    "    for i, author1 in enumerate(authors):\n",
    "        for author2 in authors[i+1:]:\n",
    "            G.add_edge(author1, author2)"
   ]
  },
  {
   "cell_type": "markdown",
   "id": "c6c5f872",
   "metadata": {},
   "source": [
    "print(\"Number of nodes:\", G.number_of_nodes())\n",
    "print(\"\\n\\nNumber of edges:\", G.number_of_edges())\n",
    "print(\"\\n\\n\\nG.degree =\", G.degree)"
   ]
  },
  {
   "cell_type": "code",
   "execution_count": null,
   "id": "bd65eb53",
   "metadata": {},
   "outputs": [],
   "source": [
    "# Calcola la degree di ogni nodo del grafo\n",
    "degrees = dict(G.degree())\n",
    "# Imposta il valore di soglia della degree da considerare nel filtro\n",
    "degree_filter = 200\n",
    "# Filtra i nodi in base alla degree\n",
    "nodes_filtered = [node for node, degree in degrees.items() if degree >= degree_filter]\n",
    "# Crea un sottografo che include solo i nodi filtrati\n",
    "G_filtered = G.subgraph(nodes_filtered)\n",
    "# # Visualizza il numero di nodi e di archi del grafo filtrato\n",
    "# print(\"Number of nodes:\", len(G_filtered.nodes))\n",
    "# print(\"Number of edges:\", len(G_filtered.edges))"
   ]
  },
  {
   "cell_type": "code",
   "execution_count": null,
   "id": "967440fd",
   "metadata": {},
   "outputs": [],
   "source": [
    "G=G_filtered"
   ]
  },
  {
   "cell_type": "code",
   "execution_count": null,
   "id": "31f05f05",
   "metadata": {
    "lines_to_next_cell": 2
   },
   "outputs": [],
   "source": [
    "#########################################################   BETWEENESS   #######################################################\n",
    "# Convert the multigraph to a simple graph\n",
    "G_simple = nx.Graph(G)\n",
    "# Calculate betweenness centrality\n",
    "betweenness = nx.betweenness_centrality(G_simple)\n",
    "# Print the betweenness centrality of each node\n",
    "bw_value = []\n",
    "# for node, bc in betweenness.items():\n",
    "#     print(f\"Node {node} has betweenness centrality {bc:.5f}\")\n",
    "#     bw_value.append(f\"{bc:.5f}\")\n",
    "# print(bw_value)"
   ]
  },
  {
   "cell_type": "code",
   "execution_count": null,
   "id": "ac806568",
   "metadata": {
    "lines_to_next_cell": 2
   },
   "outputs": [],
   "source": [
    "# #####################  COUNTING NUMBER OF EDGES BETWEEN ANY TWO NODES ####################################################\n",
    "edgelist = G.edges\n",
    "dict_edges_occurences = {}\n",
    "#\n",
    "for edge in edgelist:\n",
    "    if (edge[0], edge[1]) not in dict_edges_occurences:\n",
    "        dict_edges_occurences[(edge[0], edge[1])] = 1\n",
    "    dict_edges_occurences[(edge[0], edge[1])] += 1\n",
    "#\n",
    "# print(\"Il numero di EDGE per ciascuna coppia di nodi è: \\n\",  sorted(dict_edges_occurences.items(), key=lambda x: x[1], reverse=True))"
   ]
  },
  {
   "cell_type": "markdown",
   "id": "4007efb1",
   "metadata": {},
   "source": [
    "# ##################################   VISUALISATION ##############################\n",
    "# ##########################################  kamada_kawai_layout ##############################\n",
    "# #Kamada-Kawai Layout è un algoritmo di NetworkX che posiziona i nodi di un grafo in modo che la somma delle energie\n",
    "# potenziali dei nodi sia minima. Questo algoritmo utilizza un modello fisico di forze repulsive tra i nodi e\n",
    "# forze attrattive tra i nodi connessi da un arco. Il risultato è un disegno del grafo che cerca di minimizzare\n",
    "# l'intersezione degli archi e la sovrapposizione dei nodi.\n",
    "# In generale, l'algoritmo di Kamada-Kawai Layout produce un disegno di grafo equilibrato e piacevole esteticamente."
   ]
  },
  {
   "cell_type": "markdown",
   "id": "3d134a4e",
   "metadata": {},
   "source": [
    "Nel seguente grafo, rispetto ai precedenti, viene associato ad ogni autore anche il topic trattato dallo stesso.\n",
    "## Dato che però un autore può trattare più topic nello stesso periodo di riferimento, si è optato per calcolare il\n",
    "## numero di ciascun topic trattato da ciascun autore e assegnare all'autore il colore associato al topic da lui maggiormente trattato."
   ]
  },
  {
   "cell_type": "code",
   "execution_count": null,
   "id": "1b57a709",
   "metadata": {},
   "outputs": [],
   "source": [
    "### Visualizzazione del grafico\n",
    "fig, ax = plt.subplots(figsize=(45, 35))\n",
    "fig.suptitle(\"Collaborazioni tra Autori durante (select the year) evidenziati secondo Topic di riferimento\")\n",
    "#### Troviamo il numero di topic con maggiori occorrenze per ciascun autore:\n",
    "author_topics = {}\n",
    "for idx, row in df_authors.iterrows():\n",
    "    author = row[\"Authors\"]\n",
    "    topic = row[\"Dominant_Topic\"]\n",
    "    if author not in author_topics:\n",
    "        author_topics[author] = [0] * 6  # inizializza la lista dei conteggi dei topic a zero per ogni autore\n",
    "    author_topics[author][topic] += 1  # aggiorna il conteggio del topic per l'autore corrente\n",
    "### Stampa i conteggi dei topic per ogni autore:\n",
    "# for author, topic_counts in author_topics.items():\n",
    "#     print(f\"Autor: {author} - Conteggi dei Topic: {topic_counts}\")"
   ]
  },
  {
   "cell_type": "code",
   "execution_count": null,
   "id": "096f1448",
   "metadata": {},
   "outputs": [],
   "source": [
    "### Assegnamo il topic con maggiori occorrenze ai rispettivi nodi e li coloriamo di conseguenza:\n",
    "color_map = []\n",
    "for node in G.nodes():\n",
    "    if node in author_topics:\n",
    "        topic_counts = author_topics[node]\n",
    "        most_common_topics = [i for i, x in enumerate(topic_counts) if x == max(topic_counts)]\n",
    "        if len(most_common_topics) == 1:  # if there's a clear most common topic\n",
    "            node_color = most_common_topics[0]\n",
    "        else:  # if there's a tie for most common topic, choose one randomly\n",
    "            node_color = random.choice(most_common_topics)\n",
    "        if node_color == 0:\n",
    "            color_map.append(\"blue\")\n",
    "        elif node_color == 1:\n",
    "            color_map.append(\"orange\")\n",
    "        elif node_color == 2:\n",
    "            color_map.append(\"green\")\n",
    "        elif node_color == 3:\n",
    "            color_map.append(\"red\")\n",
    "        elif node_color == 4:\n",
    "            color_map.append(\"#8B00FF\")\n",
    "        elif node_color == 5:\n",
    "            color_map.append(\"#654321\")\n",
    "        else:\n",
    "            color_map.append(\"gray\")  # default color for nodes not found in the dataframe\n",
    "    else:\n",
    "        color_map.append(\"gray\")  # default color for nodes not found in the dataframe"
   ]
  },
  {
   "cell_type": "code",
   "execution_count": null,
   "id": "f720318d",
   "metadata": {},
   "outputs": [],
   "source": [
    "### Stabiliamo la grandezza di ciascun nodo in base alla sua Degree (Maggiore Degree = Maggiore Dimensione):\n",
    "size_map = []\n",
    "degrees = G.degree\n",
    "for i in G.nodes:\n",
    "    for node in degrees:\n",
    "        if node[0] == i:\n",
    "            degree = node[1]\n",
    "    size_map.append(degree * 7)"
   ]
  },
  {
   "cell_type": "code",
   "execution_count": null,
   "id": "6f0a2f79",
   "metadata": {},
   "outputs": [],
   "source": [
    "pos = nx.kamada_kawai_layout(G)\n",
    "nx.draw_networkx_nodes(G, pos,\n",
    "                       nodelist=G.nodes,\n",
    "                       node_size=size_map,\n",
    "                       node_color=color_map,\n",
    "                       alpha=0.7)\n",
    "nx.draw_networkx_edges(G,\n",
    "                       pos=pos,\n",
    "                       edgelist=dict_edges_occurences.keys(),\n",
    "                       width=list(dict_edges_occurences.values()),\n",
    "                       edge_color='lightgray',\n",
    "                       alpha=0.6)"
   ]
  },
  {
   "cell_type": "code",
   "execution_count": null,
   "id": "bf6e0d8c",
   "metadata": {},
   "outputs": [],
   "source": [
    "##### Data l'elevata numerosita dei nodi,al fine di rilevare solo i nodi d'interesse e non\n",
    "# creare sovrapposizione tra le etichette, si puo decidere di evidenziare tutti i nomi\n",
    "# degli autori o solo i primi 10 con maggiori livelli di Degree.\n",
    "# _____________________________________________________________________\n",
    "#### Per visualizzare i nomi dei primi 10 autori nel grafico, eseguire:\n",
    "# Get top 10 nodes by degree\n",
    "top10_nodes = sorted(G.degree, key=lambda x: x[1], reverse=True)[:10]\n",
    "# Create dictionary of labels for top 10 nodes\n",
    "top10_labels = {node[0]: node[0] for node in top10_nodes}\n",
    "nx.draw_networkx_labels(G, pos=pos,\n",
    "                        labels=top10_labels,\n",
    "                        font_color='black',\n",
    "                        font_size=6)\n",
    "# _____________________________________________________________________\n",
    "# Se invece si vogliono visualizzare tutti i nomi, eseguire il seguente codice:"
   ]
  },
  {
   "cell_type": "markdown",
   "id": "9f4d5889",
   "metadata": {},
   "source": [
    "nx.draw_networkx_labels(G, pos=pos,\n",
    "                        labels=dict(zip(G.nodes,G.nodes)),\n",
    "                        font_color='black',\n",
    "                        font_size=4)\n",
    "_____________________________________________________________________"
   ]
  },
  {
   "cell_type": "code",
   "execution_count": null,
   "id": "802ffe72",
   "metadata": {},
   "outputs": [],
   "source": [
    "############# LEGENDA ##############\n",
    "# Creiamo i dettagli della Legenda\n",
    "legend_elements1 = [\n",
    "    Line2D([0], [0], marker='o', color='w', label='Dominant_Topic 0', markerfacecolor='blue', markersize=13),\n",
    "    Line2D([0], [0], marker='o', color='w', label='Dominant_Topic 1', markerfacecolor='orange', markersize=13),\n",
    "    Line2D([0], [0], marker='o', color='w', label='Dominant_Topic 2', markerfacecolor='green', markersize=13),\n",
    "    Line2D([0], [0], marker='o', color='w', label='Dominant_Topic 3', markerfacecolor='red', markersize=13),\n",
    "    Line2D([0], [0], marker='o', color='w', label='Dominant_Topic 4', markerfacecolor='#8B00FF', markersize=13),\n",
    "    Line2D([0], [0], marker='o', color='w', label='Dominant_Topic 5', markerfacecolor='#654321', markersize=13)\n",
    "]\n",
    "ax.legend(handles=legend_elements1, loc='lower right', prop={'size': 30})\n",
    "plt.axis('off')\n",
    "plt.show()"
   ]
  },
  {
   "cell_type": "code",
   "execution_count": null,
   "id": "565b367a",
   "metadata": {},
   "outputs": [],
   "source": []
  },
  {
   "cell_type": "markdown",
   "id": "df6cfa34",
   "metadata": {
    "lines_to_next_cell": 2
   },
   "source": [
    "##======================================================================================\n",
    "####################     TOP 10 IN-DEGREE NODES CON EVIDENZA DI TUTTI I TOPICS TRATTATI ##########################\n",
    "## Questo codice in Python calcola e visualizza i primi 10 nodi con il più alto grado di ingresso in un grafo.\n",
    "## Il grado di ingresso di un nodo è definito come il numero di archi che entrano in un nodo.\n",
    "## In questo caso si utilizza il codice colore associato ai 6 Topic trovati con la Topic Modeling per colorare\n",
    "## i primi 10 Autori NON SOLO secondo il topic trattato maggiormente per il periodo di riferimento, ma andando a visualizzare\n",
    "## tutte le proporzioni di Topics trattate da ogni singolo autore tramite un grafico a Barre sovrapposte, dando un'informazione\n",
    "## molto piu accurata rispetto al grafico precedente e utile in accoppiamento al grafo."
   ]
  },
  {
   "cell_type": "code",
   "execution_count": null,
   "id": "a240f140",
   "metadata": {},
   "outputs": [],
   "source": [
    "degrees_dict = {}\n",
    "for t in degrees:\n",
    "    degrees_dict[t[0]] = t[1]"
   ]
  },
  {
   "cell_type": "code",
   "execution_count": null,
   "id": "307240bf",
   "metadata": {},
   "outputs": [],
   "source": [
    "### Ordina il dizionario dei degree in ordine decrescente e seleziona i primi 10 autori:\n",
    "top_authors = sorted(degrees_dict.items(), key=lambda x: x[1], reverse=True)[:10]\n",
    "top_author_names = [a[0] for a in top_authors]\n",
    "### Crea una lista di colori per i diversi topic:\n",
    "colors = ['blue','orange','green','red' ,'#8B00FF',\"#654321\" ]\n",
    "### Crea il grafico a barre sovrapposte:\n",
    "fig, ax = plt.subplots(figsize=(10, 6))"
   ]
  },
  {
   "cell_type": "code",
   "execution_count": null,
   "id": "02a5ff7a",
   "metadata": {},
   "outputs": [],
   "source": [
    "for i, author in enumerate(top_author_names):\n",
    "    author_topics2 = author_topics[author]\n",
    "    segments = []\n",
    "    for j, topic in enumerate(author_topics2):\n",
    "        segments.append(degrees_dict[author] * topic)\n",
    "    ax.bar(i, degrees_dict[author], color='white', edgecolor='black')\n",
    "    ax.bar(i, segments[0], color=colors[0], edgecolor='black')\n",
    "    ax.bar(i, segments[1], bottom=segments[0], color=colors[1], edgecolor='black')\n",
    "    ax.bar(i, segments[2], bottom=sum(segments[:2]), color=colors[2], edgecolor='black')\n",
    "    ax.bar(i, segments[3], bottom=sum(segments[:3]), color=colors[3], edgecolor='black')\n",
    "    ax.bar(i, segments[4], bottom=sum(segments[:4]), color=colors[4], edgecolor='black')\n",
    "    ax.bar(i, segments[5], bottom=sum(segments[:5]), color=colors[5], edgecolor='black')"
   ]
  },
  {
   "cell_type": "code",
   "execution_count": null,
   "id": "edc65be1",
   "metadata": {},
   "outputs": [],
   "source": [
    "#### Aggiungi etichette e titolo al grafico:\n",
    "ax.set_xticks(range(len(top_author_names)))\n",
    "ax.set_xticklabels(top_author_names, rotation=30, ha='right')\n",
    "ax.set_ylabel('Degree pesata per numero di collaborazioni')\n",
    "ax.set_title('Top 10 Author Degree by Dominant Topic')"
   ]
  },
  {
   "cell_type": "code",
   "execution_count": null,
   "id": "347554fe",
   "metadata": {},
   "outputs": [],
   "source": [
    "plt.show()"
   ]
  },
  {
   "cell_type": "markdown",
   "id": "de687ec9",
   "metadata": {
    "lines_to_next_cell": 2
   },
   "source": [
    "================================"
   ]
  }
 ],
 "metadata": {
  "jupytext": {
   "cell_metadata_filter": "-all",
   "main_language": "python",
   "notebook_metadata_filter": "-all"
  }
 },
 "nbformat": 4,
 "nbformat_minor": 5
}
