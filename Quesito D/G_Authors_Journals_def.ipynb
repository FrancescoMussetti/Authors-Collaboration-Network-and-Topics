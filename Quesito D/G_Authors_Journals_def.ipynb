{
 "cells": [
  {
   "cell_type": "markdown",
   "id": "70530e86",
   "metadata": {
    "lines_to_next_cell": 2,
    "pycharm": {
     "name": "#%% md\n"
    }
   },
   "source": [
    "############################# DESCRIZIONE ###################################\n",
    "Nel seguente codice cerchiamo di andare ad analizzare i collegamenti tra i vari Autori\n",
    "di una pubblicazione scientifica in ambito \"Coronavirus\" e Rivista o Libro di pubblicazione\n",
    "della stessa durante il periodo di riferimento.\n",
    "Attraverso il grafo riusciamo a visualizzare:\n",
    "- I nodi, suddivisi in \"ROSSI\" se riferiti ai \"Journal/Book\",\"BLU\" se riferiti agli \"Authors\",\n",
    "- Gli edge, che rappresentano i collegamenti tra Autore e Rivista di pubblicazione."
   ]
  },
  {
   "cell_type": "markdown",
   "id": "43e9e1e1",
   "metadata": {
    "pycharm": {
     "name": "#%% md\n"
    }
   },
   "source": [
    "####################################### CODICE #######################################\n",
    "######################################################################################"
   ]
  },
  {
   "cell_type": "code",
   "execution_count": null,
   "id": "3e277a54",
   "metadata": {
    "pycharm": {
     "name": "#%%\n"
    }
   },
   "outputs": [],
   "source": [
    "########################################## Import Packages  ##########################\n",
    "from matplotlib.lines import Line2D\n",
    "import matplotlib.pyplot as plt\n",
    "import networkx as nx\n",
    "import pandas as pd\n",
    "import numpy as np\n",
    "import seaborn as sns\n",
    "import matplotlib"
   ]
  },
  {
   "cell_type": "code",
   "execution_count": null,
   "id": "d1e40b1a",
   "metadata": {
    "pycharm": {
     "name": "#%%\n"
    }
   },
   "outputs": [],
   "source": [
    "matplotlib.use('TkAgg')\n",
    "##########################################CARICAMENTO E PREPROCESSING ######################################\n",
    "# CARICHIAMO IL DATASET\n",
    "# df = pd.read_excel(\"./Dataset_Corona_2023_COMPLETO.xlsx\")\n",
    "df = pd.read_excel(\n",
    "    r\"C:\\Users\\ilari\\Documents\\economia dei network\\Network-Economy\\Quesito C\\Dataset_Corona_1949_2023_FINALE.xlsx\",\n",
    "    usecols=range(0, 6), index_col=None)  # , nrows=100) #, names=[\"Authors\",\"Journal/Book\"])"
   ]
  },
  {
   "cell_type": "code",
   "execution_count": null,
   "id": "9f036c4f",
   "metadata": {
    "pycharm": {
     "name": "#%%\n"
    }
   },
   "outputs": [],
   "source": [
    "# publication_year_interval = (1949, 2019)\n",
    "publication_year_interval = (2020, 2023)"
   ]
  },
  {
   "cell_type": "code",
   "execution_count": null,
   "id": "9bd6af25",
   "metadata": {
    "pycharm": {
     "name": "#%%\n"
    }
   },
   "outputs": [],
   "source": [
    "# seleziona solo le righe che rientrano nell'intervallo di anni desiderato\n",
    "df = df[\n",
    "    (df[\"Publication Year\"] >= publication_year_interval[0]) & (df[\"Publication Year\"] <= publication_year_interval[1])]\n",
    "df = (df[df.Authors.str.contains(',', case=False)])"
   ]
  },
  {
   "cell_type": "code",
   "execution_count": null,
   "id": "0c761667",
   "metadata": {
    "lines_to_next_cell": 2,
    "pycharm": {
     "name": "#%%\n"
    }
   },
   "outputs": [],
   "source": [
    "print(df.head())\n",
    "# #Creiamo un nuovo dataframe contenente il 30% delle osservazioni per alleggerire il calcolo\n",
    "# Creating a dataframe with 70% values of original dataframe\n",
    "# df_part_1 = df.sample(frac = 0.95, random_state = 45)\n",
    "# # # Creating dataframe with rest of the 30% values\n",
    "# df_part_2 = df.drop(df_part_1.index)\n",
    "# df = df_part_2"
   ]
  },
  {
   "cell_type": "code",
   "execution_count": null,
   "id": "484df2a6",
   "metadata": {
    "pycharm": {
     "name": "#%%\n"
    }
   },
   "outputs": [],
   "source": [
    "# Creiamo un nuovo Dataframe che contiene le informazioni del Df originario, ma per ciascun Autore presente nella colonna \"Authors\"\n",
    "df_authors = (\n",
    "    df.assign(Authors=df[\"Authors\"].astype(str).str.split(\", \"))\n",
    "        .explode(\"Authors\")\n",
    "        .drop_duplicates()\n",
    ")\n",
    "df_authors = df_authors.dropna()\n",
    "# print(df_authors)"
   ]
  },
  {
   "cell_type": "code",
   "execution_count": null,
   "id": "26ea1df2",
   "metadata": {
    "pycharm": {
     "name": "#%%\n"
    }
   },
   "outputs": [],
   "source": [
    "########################################## CREAZIONE GRAFO ################################\n",
    "G = nx.from_pandas_edgelist(df_authors, \"Authors\", \"Journal/Book\", create_using=nx.MultiDiGraph)\n",
    "print(\"Number of nodes:\", G.number_of_nodes())\n",
    "print(\"\\n\\nNumber of edges:\", G.number_of_edges())"
   ]
  },
  {
   "cell_type": "code",
   "execution_count": null,
   "id": "0592d030",
   "metadata": {
    "pycharm": {
     "name": "#%%\n"
    }
   },
   "outputs": [],
   "source": [
    "print(\"\\n\\n\\nG.degree =\", G.degree)"
   ]
  },
  {
   "cell_type": "code",
   "execution_count": null,
   "id": "973bedf3",
   "metadata": {
    "pycharm": {
     "name": "#%%\n"
    }
   },
   "outputs": [],
   "source": [
    "# Il valore del grado minimo (in questo caso 20) può essere modificato a seconda delle\n",
    "# esigenze specifiche.\n",
    "# # Compute the node degree\n",
    "degree = nx.degree(G)\n",
    "# Create a list of nodes with high degree\n",
    "high_degree_nodes = [node for node, d in degree if d >= 500]\n",
    "# Create a subgraph with only high degree nodes\n",
    "G_high_degree = G.subgraph(high_degree_nodes)\n",
    "G = G_high_degree"
   ]
  },
  {
   "cell_type": "code",
   "execution_count": null,
   "id": "86e96011",
   "metadata": {
    "pycharm": {
     "name": "#%%\n"
    }
   },
   "outputs": [],
   "source": [
    "# isolated_node=nx.isolates(G)\n",
    "# len(list(isolated_node))\n",
    "#\n",
    "# G.remove_nodes_from(list(nx.isolates(G)))\n",
    "len(G.nodes)"
   ]
  },
  {
   "cell_type": "code",
   "execution_count": null,
   "id": "b1f7b356",
   "metadata": {
    "pycharm": {
     "name": "#%%\n"
    }
   },
   "outputs": [],
   "source": [
    "################################################   BETWEENESS:\n",
    "# Convert the multigraph to a simple graph\n",
    "G_simple = nx.Graph(G)"
   ]
  },
  {
   "cell_type": "code",
   "execution_count": null,
   "id": "a0880f9d",
   "metadata": {
    "pycharm": {
     "name": "#%%\n"
    }
   },
   "outputs": [],
   "source": [
    "# Calculate betweenness centrality\n",
    "betweenness = nx.betweenness_centrality(G_simple)\n",
    "#\n",
    "# # Print the betweenness centrality of each node\n",
    "bw_value = []\n",
    "for node, bc in betweenness.items():\n",
    "    # print(f\"Node {node} has betweenness centrality {bc:.5f}\")\n",
    "    bw_value.append(f\"{bc:.5f}\")\n",
    "# bw_value = [value for value in bw_centrality.values()]\n",
    "# quantiles = np.quantile(bw_value, [0.25, 0.5, 0.75])          ### FORSE ELIMINABILE\n",
    "#\n",
    "################################## #COUNTING NUMBER OF EDGES BETWEEN ANY TWO NODES:\n",
    "edgelist = G.edges\n",
    "dict_edges_occurences = {}\n",
    "#\n",
    "for edge in edgelist:\n",
    "    if (edge[0], edge[1]) not in dict_edges_occurences:\n",
    "        dict_edges_occurences[(edge[0], edge[1])] = 1\n",
    "    dict_edges_occurences[(edge[0], edge[1])] += 1"
   ]
  },
  {
   "cell_type": "code",
   "execution_count": null,
   "id": "dfd1cd2f",
   "metadata": {
    "pycharm": {
     "name": "#%%\n"
    }
   },
   "outputs": [],
   "source": [
    "print(\"Il numero di EDGE per ciascuna coppia di nodi è: \\n\",\n",
    "      sorted(dict_edges_occurences.items(), key=lambda x: x[1], reverse=True))"
   ]
  },
  {
   "cell_type": "markdown",
   "id": "610908f1",
   "metadata": {
    "pycharm": {
     "name": "#%% md\n"
    }
   },
   "source": [
    "#################################   VISUALISATION ################\n",
    "##Questo codice in Python crea un grafico che visualizza i contatti tra autori e riviste/libri nel 2016.\n",
    "Il grafico viene creato utilizzando la libreria \"matplotlib\" e il grafo è rappresentato da un oggetto \"G\".\n",
    "Il codice inizia creando un oggetto \"fig\" e \"ax\" utilizzando la funzione \"plt.subplots\" e impostando\n",
    "la dimensione del grafico. Un titolo viene assegnato al grafico utilizzando \"fig.suptitle\".\n",
    "Successivamente, il codice crea una mappa colore che assegna il colore \"blu\" ai nodi che\n",
    "rappresentano gli autori e il colore \"rosso\" ai nodi che rappresentano le riviste/libri.\n",
    "Questo viene fatto verificando se il nome del nodo esiste nella colonna \"Authors\" del dataframe \"df_authors\".\n",
    "Inoltre, viene creata una mappa di dimensioni che assegna la dimensione di ogni nodo in base al\n",
    "loro grado di ingresso. Questo viene fatto moltiplicando il grado di ingresso di un nodo per 7.\n",
    "Infine, il codice crea una legenda per il grafico utilizzando \"Line2D\". La legenda specifica che i nodi\n",
    "rappresentati con cerchi rossi rappresentano le riviste/libri e i nodi rappresentati\n",
    "con cerchi blu rappresentano gli autori."
   ]
  },
  {
   "cell_type": "code",
   "execution_count": null,
   "id": "605a25ad",
   "metadata": {
    "pycharm": {
     "name": "#%%\n"
    }
   },
   "outputs": [],
   "source": [
    "## #Visualize the graph\n",
    "fig, ax = plt.subplots(figsize=(45, 35))\n",
    "fig.suptitle(\"Contact between Authors and Journal/Book in 2020-2023\")\n",
    "# Add a color attribute to each node based on its column value\n",
    "color_map = []\n",
    "for node in G.nodes():\n",
    "    if node in df_authors[\"Authors\"].values:\n",
    "        color_map.append(\"blue\")\n",
    "    else:\n",
    "        color_map.append(\"red\")"
   ]
  },
  {
   "cell_type": "code",
   "execution_count": null,
   "id": "c7597574",
   "metadata": {
    "pycharm": {
     "name": "#%%\n"
    }
   },
   "outputs": [],
   "source": [
    "size_map = []\n",
    "degrees = G.degree\n",
    "for i in G.nodes:\n",
    "    for node in degrees:\n",
    "        if node[0] == i:\n",
    "            degree = node[1]\n",
    "    size_map.append(degree * 7)"
   ]
  },
  {
   "cell_type": "code",
   "execution_count": null,
   "id": "d915c378",
   "metadata": {
    "pycharm": {
     "name": "#%%\n"
    }
   },
   "outputs": [],
   "source": [
    "############# LEGENDA ##############\n",
    "legend_elements1 = [Line2D([0], [0], marker='o', color='w', label='Journal/Book', markerfacecolor='red', markersize=13),\n",
    "                    Line2D([0], [0], marker='o', color='w', label='Authors', markerfacecolor='blue', markersize=13), ]"
   ]
  },
  {
   "cell_type": "code",
   "execution_count": null,
   "outputs": [],
   "source": [
    "############## ????????????????????????????  TENTATIVP DI FILTRAGGIO PER DEGREE ???????????????????????????????????? ##################\n",
    "## In questo codice, prima si calcola il grado dei nodi utilizzando la funzione nx.degree,\n",
    "### quindi si crea una lista di nodi con grado maggiore o uguale a 20. Infine, si crea\n",
    "un sottografo utilizzando la funzione subgraph che contiene solo i nodi\n",
    "con grado maggiore e si visualizza il sottografo utilizzando la funzione nx.draw.\n",
    "Il valore del grado minimo (in questo caso 20) può essere modificato a seconda delle\n",
    "esigenze specifiche.\n",
    "# Compute the node degree\n",
    "degree = nx.degree(G)\n",
    "# Create a list of nodes with high degree\n",
    "high_degree_nodes = [node for node, d in degree if d >= 20]\n",
    "# Create a subgraph with only high degree nodes\n",
    "G_high_degree = G.subgraph(high_degree_nodes)\n",
    "G = G_high_degree\n",
    "#################################### ??????????????????????? ############################"
   ],
   "metadata": {
    "collapsed": false,
    "pycharm": {
     "name": "#%%\n"
    }
   }
  },
  {
   "cell_type": "code",
   "execution_count": null,
   "id": "8265d884",
   "metadata": {
    "pycharm": {
     "name": "#%%\n"
    }
   },
   "outputs": [],
   "source": [
    "#\n",
    "pos = nx.kamada_kawai_layout(G)\n",
    "nx.draw_networkx_nodes(G, pos,\n",
    "                       nodelist=G.nodes,\n",
    "                       node_size=size_map,\n",
    "                       node_color=color_map,\n",
    "                       alpha=0.7)\n",
    "nx.draw_networkx_edges(G,\n",
    "                       pos=pos,\n",
    "                       edgelist=dict_edges_occurences.keys(),\n",
    "                       width=list(dict_edges_occurences.values()),\n",
    "                       edge_color='lightgray',\n",
    "                       alpha=0.6)"
   ]
  },
  {
   "cell_type": "code",
   "execution_count": null,
   "id": "172271fc",
   "metadata": {
    "pycharm": {
     "name": "#%%\n"
    }
   },
   "outputs": [],
   "source": [
    "# _____________________________________________________________________\n",
    "#### Per visualizzare i nomi dei primi 10 autori nel grafico, eseguire:\n",
    "# Get top 10 nodes by degree\n",
    "top10_nodes = sorted(G.degree, key=lambda x: x[1], reverse=True)[:10]\n",
    "# Create dictionary of labels for top 10 nodes\n",
    "top10_labels = {node[0]: node[0] for node in top10_nodes}\n",
    "nx.draw_networkx_labels(G, pos=pos,\n",
    "                        labels=top10_labels,\n",
    "                        font_color='black',\n",
    "                        font_size=6)\n",
    "# _____________________________________________________________________\n",
    "# Se invece si vogliono visualizzare tutti i nomi, eseguire il seguente codice:"
   ]
  },
  {
   "cell_type": "markdown",
   "id": "bbbf9f9e",
   "metadata": {
    "pycharm": {
     "name": "#%% md\n"
    }
   },
   "source": [
    "nx.draw_networkx_labels(G, pos=pos,\n",
    "                        labels=dict(zip(G.nodes,G.nodes)),\n",
    "                        font_color='black',\n",
    "                        font_size=4)\n",
    "_____________________________________________________________________"
   ]
  },
  {
   "cell_type": "code",
   "execution_count": null,
   "id": "ceecefbd",
   "metadata": {
    "pycharm": {
     "name": "#%%\n"
    }
   },
   "outputs": [],
   "source": [
    "############# LEGGENDA ##############\n",
    "ax.legend(handles=legend_elements1, loc='best')\n",
    "plt.axis('off')\n",
    "plt.show()"
   ]
  },
  {
   "cell_type": "markdown",
   "id": "7d4be477",
   "metadata": {
    "lines_to_next_cell": 2,
    "pycharm": {
     "name": "#%% md\n"
    }
   },
   "source": [
    "\n",
    "###################     TOP 10 IN-DEGREE NODES: ##########################\n",
    "Questo codice in Python calcola e visualizza i primi 10 nodi con il più alto grado di ingresso in un grafo.\n",
    "Il grado di ingresso di un nodo è definito come il numero di archi che entrano in un nodo.\n",
    "Il codice inizia creando un dizionario \"degrees_dict\" che mappa i nomi dei nodi ai loro gradi di ingresso.\n",
    "Questo viene fatto iterando su una lista \"degrees\" che contiene i gradi di ingresso per ogni nodo.\n",
    "Successivamente, la lista \"degrees_list\" viene ordinata in ordine decrescente in base ai gradi di ingresso\n",
    "utilizzando la funzione \"sorted\" con una funzione di ordinamento lambda che ordina gli elementi in base\n",
    "al valore di \"x[1]\".\n",
    "Il codice quindi seleziona i primi 10 elementi della lista ordinata e li assegna a \"top10_degree_nodes\".\n",
    "Infine, il codice crea un grafico a barre usando la libreria \"matplotlib\" che visualizza i primi 10 nodi con\n",
    "il più alto grado di ingresso. La barra viene etichettata con un titolo, etichette per l'asse x e y, e\n",
    "le barre sono ruotate di 15 gradi.\n",
    "La funzione \"plt.show()\" viene chiamata alla fine per visualizzare il grafico."
   ]
  },
  {
   "cell_type": "code",
   "execution_count": null,
   "id": "afc884c6",
   "metadata": {
    "pycharm": {
     "name": "#%%\n"
    }
   },
   "outputs": [],
   "source": [
    "degrees_dict = {}\n",
    "for t in degrees:\n",
    "    degrees_dict[t[0]] = t[1]"
   ]
  },
  {
   "cell_type": "code",
   "execution_count": null,
   "id": "80a9855b",
   "metadata": {
    "pycharm": {
     "name": "#%%\n"
    }
   },
   "outputs": [],
   "source": [
    "degrees_list = sorted(degrees_dict.items(), key=lambda x: x[1], reverse=True)\n",
    "top10_degree_nodes = degrees_list[:10]"
   ]
  },
  {
   "cell_type": "code",
   "execution_count": null,
   "id": "cad0611c",
   "metadata": {
    "pycharm": {
     "name": "#%%\n"
    }
   },
   "outputs": [],
   "source": [
    "colors = []\n",
    "for node in top10_degree_nodes:\n",
    "    if node[0] in df_authors[\"Authors\"].values:\n",
    "        colors.append(\"blue\")\n",
    "    else:\n",
    "        colors.append(\"red\")"
   ]
  },
  {
   "cell_type": "code",
   "execution_count": null,
   "id": "f353f8c8",
   "metadata": {
    "pycharm": {
     "name": "#%%\n"
    }
   },
   "outputs": [],
   "source": [
    "print(top10_degree_nodes)\n",
    "data = top10_degree_nodes\n",
    "plt.bar(*zip(*data), color=colors)\n",
    "plt.title('Top 10 degree nodes')\n",
    "plt.xlabel('Journal/Authors')\n",
    "plt.ylabel('Collaborazioni')\n",
    "plt.xticks(rotation=15)"
   ]
  },
  {
   "cell_type": "code",
   "execution_count": null,
   "id": "488f8849",
   "metadata": {
    "pycharm": {
     "name": "#%%\n"
    }
   },
   "outputs": [],
   "source": [
    "plt.show()"
   ]
  },
  {
   "cell_type": "code",
   "execution_count": null,
   "id": "8579f76a",
   "metadata": {
    "pycharm": {
     "name": "#%%\n"
    }
   },
   "outputs": [],
   "source": [
    "degrees_dict_authors = {key: value for (key, value) in degrees_dict.items() if\n",
    "                        key not in df['Journal/Book'].unique().tolist()}\n",
    "degrees_list_authors = sorted(degrees_dict_authors.items(), key=lambda x: x[1], reverse=True)\n",
    "top10_degree_nodes_authors = degrees_list_authors[:10]"
   ]
  },
  {
   "cell_type": "code",
   "execution_count": null,
   "id": "92989ba9",
   "metadata": {
    "pycharm": {
     "name": "#%%\n"
    }
   },
   "outputs": [],
   "source": [
    "print(top10_degree_nodes_authors)\n",
    "data = top10_degree_nodes_authors\n",
    "plt.bar(*zip(*data), color=\"blue\")\n",
    "plt.title('Top 10 degree authors')\n",
    "plt.xlabel('Authors')\n",
    "plt.ylabel('Collaborazioni')\n",
    "plt.xticks(rotation=15)"
   ]
  },
  {
   "cell_type": "code",
   "execution_count": null,
   "id": "50c41ba8",
   "metadata": {
    "pycharm": {
     "name": "#%%\n"
    }
   },
   "outputs": [],
   "source": [
    "plt.show()"
   ]
  },
  {
   "cell_type": "code",
   "execution_count": null,
   "id": "975ca872",
   "metadata": {
    "pycharm": {
     "name": "#%%\n"
    }
   },
   "outputs": [],
   "source": [
    "degrees_dict_journals = {key: value for (key, value) in degrees_dict.items() if\n",
    "                         key in df['Journal/Book'].unique().tolist()}\n",
    "degrees_list_journals = sorted(degrees_dict_journals.items(), key=lambda x: x[1], reverse=True)\n",
    "top10_degree_nodes_journals = degrees_list_journals[:10]"
   ]
  },
  {
   "cell_type": "code",
   "execution_count": null,
   "id": "675bf7f3",
   "metadata": {
    "pycharm": {
     "name": "#%%\n"
    }
   },
   "outputs": [],
   "source": [
    "print(top10_degree_nodes_journals)\n",
    "data = top10_degree_nodes_journals\n",
    "plt.bar(*zip(*data), color=\"red\")\n",
    "plt.title('Top 10 degree nodes')\n",
    "plt.xlabel('Journal/Book')\n",
    "plt.ylabel('Collaborazioni')\n",
    "plt.xticks(rotation=15)"
   ]
  },
  {
   "cell_type": "code",
   "execution_count": null,
   "id": "69c005b0",
   "metadata": {
    "pycharm": {
     "name": "#%%\n"
    }
   },
   "outputs": [],
   "source": [
    "plt.show()"
   ]
  }
 ],
 "metadata": {
  "jupytext": {
   "cell_metadata_filter": "-all",
   "main_language": "python",
   "notebook_metadata_filter": "-all"
  }
 },
 "nbformat": 4,
 "nbformat_minor": 5
}